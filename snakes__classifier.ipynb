{
  "nbformat": 4,
  "nbformat_minor": 0,
  "metadata": {
    "colab": {
      "name": "snakes _classifier.ipynb",
      "provenance": [],
      "collapsed_sections": []
    },
    "kernelspec": {
      "name": "python3",
      "display_name": "Python 3"
    },
    "language_info": {
      "name": "python"
    },
    "accelerator": "GPU"
  },
  "cells": [
    {
      "cell_type": "markdown",
      "metadata": {
        "id": "aLj9TpczITy9"
      },
      "source": [
        "#Snake Identifier\n"
      ]
    },
    {
      "cell_type": "markdown",
      "metadata": {
        "id": "xwTmy6SpJP1I"
      },
      "source": [
        "## Importing Libraries"
      ]
    },
    {
      "cell_type": "code",
      "metadata": {
        "id": "0fFAqu659xSp",
        "colab": {
          "base_uri": "https://localhost:8080/"
        },
        "outputId": "a33e0ee0-4377-4d39-b4ce-03a65defdb59"
      },
      "source": [
        "import pandas as pd\n",
        "import numpy as np\n",
        "import matplotlib.pyplot as plt\n",
        "import seaborn as sns\n",
        "\n",
        "from sklearn.preprocessing import LabelEncoder\n",
        "from sklearn.model_selection import train_test_split\n",
        "from sklearn.metrics import confusion_matrix\n",
        "from sklearn.utils.multiclass import unique_labels\n",
        "LE = LabelEncoder()\n",
        "\n",
        "import tensorflow as tf\n",
        "!pip install --upgrade tensorflow_hub\n",
        "import tensorflow_hub as hub\n",
        "from tensorflow.keras.layers import Flatten, Dense,Dropout\n",
        "from tensorflow.keras.models  import Model\n",
        "from keras.applications.vgg16 import preprocess_input\n",
        "from keras.preprocessing.image import load_img\n",
        "from keras.preprocessing.image import img_to_array\n",
        "from keras.applications.vgg16 import preprocess_input\n",
        "from keras.applications.vgg16 import decode_predictions\n",
        "from keras.applications import vgg16\n",
        "from tensorflow.keras.applications import VGG16 # Wtf ?\n",
        "from keras.optimizers import Adam\n",
        "\n",
        "from google.colab import drive\n",
        "import h5py\n",
        "\n",
        "%matplotlib inline"
      ],
      "execution_count": null,
      "outputs": [
        {
          "output_type": "stream",
          "text": [
            "Requirement already up-to-date: tensorflow_hub in /usr/local/lib/python3.7/dist-packages (0.12.0)\n",
            "Requirement already satisfied, skipping upgrade: numpy>=1.12.0 in /usr/local/lib/python3.7/dist-packages (from tensorflow_hub) (1.19.5)\n",
            "Requirement already satisfied, skipping upgrade: protobuf>=3.8.0 in /usr/local/lib/python3.7/dist-packages (from tensorflow_hub) (3.12.4)\n",
            "Requirement already satisfied, skipping upgrade: six>=1.9 in /usr/local/lib/python3.7/dist-packages (from protobuf>=3.8.0->tensorflow_hub) (1.15.0)\n",
            "Requirement already satisfied, skipping upgrade: setuptools in /usr/local/lib/python3.7/dist-packages (from protobuf>=3.8.0->tensorflow_hub) (57.0.0)\n"
          ],
          "name": "stdout"
        }
      ]
    },
    {
      "cell_type": "code",
      "metadata": {
        "id": "SyD3KUxX8_0w",
        "colab": {
          "base_uri": "https://localhost:8080/"
        },
        "outputId": "87ca44bf-1dbd-46e4-a173-5dcb0d08d956"
      },
      "source": [
        "drive.mount('/content/drive',force_remount=True)\n",
        "BASE_PATH =\"/content/drive/MyDrive/data\""
      ],
      "execution_count": null,
      "outputs": [
        {
          "output_type": "stream",
          "text": [
            "Mounted at /content/drive\n"
          ],
          "name": "stdout"
        }
      ]
    },
    {
      "cell_type": "markdown",
      "metadata": {
        "id": "CmweXhcOJni3"
      },
      "source": [
        "## Data exploration"
      ]
    },
    {
      "cell_type": "markdown",
      "metadata": {
        "id": "SvDIXBeLJ8D_"
      },
      "source": [
        "- Loading dataframe"
      ]
    },
    {
      "cell_type": "code",
      "metadata": {
        "id": "0M8oVaQ19qKQ"
      },
      "source": [
        "path = BASE_PATH+\"/oficial/data.csv\"\n",
        "df = pd.read_csv(path)\n",
        "df['breed_encode'] = LE.fit_transform(df['breed'])"
      ],
      "execution_count": null,
      "outputs": []
    },
    {
      "cell_type": "markdown",
      "metadata": {
        "id": "RJJ1tAAQJsHv"
      },
      "source": [
        "- Main dataframe:"
      ]
    },
    {
      "cell_type": "code",
      "metadata": {
        "id": "8kXPnA5EDZ_o",
        "colab": {
          "base_uri": "https://localhost:8080/"
        },
        "outputId": "a946ae89-677c-413c-8405-4bbb25c9b3d4"
      },
      "source": [
        "df.head()"
      ],
      "execution_count": null,
      "outputs": [
        {
          "output_type": "execute_result",
          "data": {
            "text/html": [
              "<div>\n",
              "<style scoped>\n",
              "    .dataframe tbody tr th:only-of-type {\n",
              "        vertical-align: middle;\n",
              "    }\n",
              "\n",
              "    .dataframe tbody tr th {\n",
              "        vertical-align: top;\n",
              "    }\n",
              "\n",
              "    .dataframe thead th {\n",
              "        text-align: right;\n",
              "    }\n",
              "</style>\n",
              "<table border=\"1\" class=\"dataframe\">\n",
              "  <thead>\n",
              "    <tr style=\"text-align: right;\">\n",
              "      <th></th>\n",
              "      <th>image_id</th>\n",
              "      <th>breed</th>\n",
              "      <th>breed_encode</th>\n",
              "    </tr>\n",
              "  </thead>\n",
              "  <tbody>\n",
              "    <tr>\n",
              "      <th>0</th>\n",
              "      <td>a8b3ad1dde</td>\n",
              "      <td>nerodia-erythrogaster</td>\n",
              "      <td>15</td>\n",
              "    </tr>\n",
              "    <tr>\n",
              "      <th>1</th>\n",
              "      <td>8b492b973d</td>\n",
              "      <td>pantherophis-vulpinus</td>\n",
              "      <td>25</td>\n",
              "    </tr>\n",
              "    <tr>\n",
              "      <th>2</th>\n",
              "      <td>929b99ea92</td>\n",
              "      <td>thamnophis-sirtalis</td>\n",
              "      <td>34</td>\n",
              "    </tr>\n",
              "    <tr>\n",
              "      <th>3</th>\n",
              "      <td>bbac7385e2</td>\n",
              "      <td>pantherophis-obsoletus</td>\n",
              "      <td>23</td>\n",
              "    </tr>\n",
              "    <tr>\n",
              "      <th>4</th>\n",
              "      <td>ef776b1488</td>\n",
              "      <td>agkistrodon-contortrix</td>\n",
              "      <td>0</td>\n",
              "    </tr>\n",
              "  </tbody>\n",
              "</table>\n",
              "</div>"
            ],
            "text/plain": [
              "     image_id                   breed  breed_encode\n",
              "0  a8b3ad1dde   nerodia-erythrogaster            15\n",
              "1  8b492b973d   pantherophis-vulpinus            25\n",
              "2  929b99ea92     thamnophis-sirtalis            34\n",
              "3  bbac7385e2  pantherophis-obsoletus            23\n",
              "4  ef776b1488  agkistrodon-contortrix             0"
            ]
          },
          "metadata": {
            "tags": []
          },
          "execution_count": 4
        }
      ]
    },
    {
      "cell_type": "markdown",
      "metadata": {
        "id": "sHymgN2IXpJW"
      },
      "source": [
        "- Data Size"
      ]
    },
    {
      "cell_type": "code",
      "metadata": {
        "colab": {
          "base_uri": "https://localhost:8080/"
        },
        "id": "yBK--n1EXr_R",
        "outputId": "973c9be0-0cf3-4366-9577-423c9682be8a"
      },
      "source": [
        "df.shape"
      ],
      "execution_count": null,
      "outputs": [
        {
          "output_type": "execute_result",
          "data": {
            "text/plain": [
              "(20845, 3)"
            ]
          },
          "metadata": {
            "tags": []
          },
          "execution_count": 5
        }
      ]
    },
    {
      "cell_type": "markdown",
      "metadata": {
        "id": "pr9dM6rRYR9X"
      },
      "source": [
        "- Breeds:"
      ]
    },
    {
      "cell_type": "code",
      "metadata": {
        "colab": {
          "base_uri": "https://localhost:8080/"
        },
        "id": "EfACWldBYV0V",
        "outputId": "52bf237c-5e4a-4344-8cf6-d99faf213dac"
      },
      "source": [
        "print(pd.unique(df['breed']));\n",
        "print(\"Total breeds\",len ( pd.unique(df['breed'])));"
      ],
      "execution_count": null,
      "outputs": [
        {
          "output_type": "stream",
          "text": [
            "['nerodia-erythrogaster' 'pantherophis-vulpinus' 'thamnophis-sirtalis'\n",
            " 'pantherophis-obsoletus' 'agkistrodon-contortrix' 'crotalus-atrox'\n",
            " 'lampropeltis-triangulum' 'crotalus-horridus' 'crotalus-ruber'\n",
            " 'heterodon-platirhinos' 'nerodia-sipedon' 'thamnophis-elegans'\n",
            " 'thamnophis-marcianus' 'crotalus-viridis' 'nerodia-fasciata'\n",
            " 'haldea-striatula' 'storeria-dekayi' 'agkistrodon-piscivorus'\n",
            " 'nerodia-rhombifer' 'storeria-occipitomaculata' 'thamnophis-radix'\n",
            " 'coluber-constrictor' 'natrix-natrix' 'diadophis-punctatus'\n",
            " 'masticophis-flagellum' 'pantherophis-spiloides' 'rhinocheilus-lecontei'\n",
            " 'lampropeltis-californiae' 'pituophis-catenifer' 'opheodrys-aestivus'\n",
            " 'pantherophis-guttatus' 'pantherophis-alleghaniensis'\n",
            " 'thamnophis-proximus' 'pantherophis-emoryi' 'crotalus-scutulatus']\n",
            "Total breeds 35\n"
          ],
          "name": "stdout"
        }
      ]
    },
    {
      "cell_type": "markdown",
      "metadata": {
        "id": "_WBg0WNqZJlL"
      },
      "source": [
        "- Total images for each breed : "
      ]
    },
    {
      "cell_type": "code",
      "metadata": {
        "colab": {
          "base_uri": "https://localhost:8080/"
        },
        "id": "GN9rjrBclRQR",
        "outputId": "ea1094be-6820-43d8-e31e-87ff43779970"
      },
      "source": [
        "print(df['breed'].value_counts())"
      ],
      "execution_count": null,
      "outputs": [
        {
          "output_type": "stream",
          "text": [
            "thamnophis-sirtalis            972\n",
            "storeria-dekayi                882\n",
            "crotalus-atrox                 837\n",
            "pantherophis-obsoletus         812\n",
            "pituophis-catenifer            735\n",
            "lampropeltis-triangulum        695\n",
            "nerodia-sipedon                691\n",
            "agkistrodon-contortrix         643\n",
            "diadophis-punctatus            631\n",
            "agkistrodon-piscivorus         630\n",
            "nerodia-erythrogaster          616\n",
            "pantherophis-alleghaniensis    615\n",
            "lampropeltis-californiae       610\n",
            "opheodrys-aestivus             608\n",
            "coluber-constrictor            591\n",
            "heterodon-platirhinos          585\n",
            "pantherophis-guttatus          580\n",
            "crotalus-horridus              577\n",
            "natrix-natrix                  573\n",
            "masticophis-flagellum          553\n",
            "haldea-striatula               550\n",
            "storeria-occipitomaculata      540\n",
            "nerodia-rhombifer              536\n",
            "thamnophis-proximus            534\n",
            "rhinocheilus-lecontei          526\n",
            "crotalus-ruber                 503\n",
            "crotalus-scutulatus            503\n",
            "thamnophis-radix               499\n",
            "pantherophis-vulpinus          498\n",
            "pantherophis-spiloides         481\n",
            "pantherophis-emoryi            459\n",
            "crotalus-viridis               458\n",
            "nerodia-fasciata               455\n",
            "thamnophis-elegans             438\n",
            "thamnophis-marcianus           429\n",
            "Name: breed, dtype: int64\n"
          ],
          "name": "stdout"
        }
      ]
    },
    {
      "cell_type": "markdown",
      "metadata": {
        "id": "gxxRiLNgITIn"
      },
      "source": [
        "- Datad density:"
      ]
    },
    {
      "cell_type": "code",
      "metadata": {
        "colab": {
          "base_uri": "https://localhost:8080/",
          "height": 336
        },
        "id": "5C7w42RikQWC",
        "outputId": "37fe4490-a663-4784-c268-9e0c55ae1779"
      },
      "source": [
        "sns.distplot(df['breed_encode']);"
      ],
      "execution_count": null,
      "outputs": [
        {
          "output_type": "stream",
          "text": [
            "/usr/local/lib/python3.7/dist-packages/seaborn/distributions.py:2557: FutureWarning: `distplot` is a deprecated function and will be removed in a future version. Please adapt your code to use either `displot` (a figure-level function with similar flexibility) or `histplot` (an axes-level function for histograms).\n",
            "  warnings.warn(msg, FutureWarning)\n"
          ],
          "name": "stderr"
        },
        {
          "output_type": "display_data",
          "data": {
            "image/png": "[encoded data removed]",
            "text/plain": [
              "<Figure size 432x288 with 1 Axes>"
            ]
          },
          "metadata": {
            "tags": [],
            "needs_background": "light"
          }
        }
      ]
    },
    {
      "cell_type": "markdown",
      "metadata": {
        "id": "2GoPeVliLF2I"
      },
      "source": [
        "- Histogram:"
      ]
    },
    {
      "cell_type": "code",
      "metadata": {
        "colab": {
          "base_uri": "https://localhost:8080/",
          "height": 337
        },
        "id": "ypr3lugdkwWj",
        "outputId": "1a900b96-076a-47a1-9d8f-0475751e11bf"
      },
      "source": [
        "plt.hist(df['breed_encode'])"
      ],
      "execution_count": null,
      "outputs": [
        {
          "output_type": "execute_result",
          "data": {
            "text/plain": [
              "(array([2701., 1583., 2224., 1858., 1644., 2450., 1851., 2240., 1860.,\n",
              "        2434.]),\n",
              " array([ 0. ,  3.4,  6.8, 10.2, 13.6, 17. , 20.4, 23.8, 27.2, 30.6, 34. ]),\n",
              " <a list of 10 Patch objects>)"
            ]
          },
          "metadata": {
            "tags": []
          },
          "execution_count": 7
        },
        {
          "output_type": "display_data",
          "data": {
            "image/png": "[encoded data removed]",
            "text/plain": [
              "<Figure size 432x288 with 1 Axes>"
            ]
          },
          "metadata": {
            "tags": [],
            "needs_background": "light"
          }
        }
      ]
    },
    {
      "cell_type": "markdown",
      "metadata": {
        "id": "hzaK32JPKN2i"
      },
      "source": [
        "## Convolutional network arquitecture"
      ]
    },
    {
      "cell_type": "markdown",
      "metadata": {
        "id": "kwAOmbUNau-x"
      },
      "source": [
        "### Transfer learning"
      ]
    },
    {
      "cell_type": "markdown",
      "metadata": {
        "id": "0XX_H1OitKRa"
      },
      "source": [
        "- Get model Using VGG16 Arquitecture"
      ]
    },
    {
      "cell_type": "code",
      "metadata": {
        "id": "-78on5b8s5sB"
      },
      "source": [
        "#Custom model\n",
        "def getModel ( num_breeds ) :\n",
        "\n",
        "  vgg= VGG16( \n",
        "      input_shape= (224,224,3), \n",
        "      weights='imagenet',\n",
        "      include_top=False\n",
        "      )\n",
        "  \n",
        " # layer_flatten = Flatten()(vgg.output)\n",
        "\n",
        "  vgg.summary()\n",
        "  custom_model=vgg\n",
        "\n",
        "  for layer in custom_model.layers:\n",
        "    layer.trainable = False\n",
        "      \n",
        "\n",
        "\n",
        "  last_layer = Flatten()(custom_model.output)\n",
        "  last_layer = Dense(512, activation='relu', name='full_connected_1')(last_layer)\n",
        "  #last_layer = Dropout(0.5)(last_layer)\n",
        "  last_layer = Dense(128, activation='relu', name='full_connected_2')(last_layer)\n",
        "  out = Dense(num_breeds, activation='softmax', name='output')(last_layer)\n",
        "  custom_model = Model(custom_model.input, out)\n",
        "\n",
        "\n",
        "  \n",
        "  opt = Adam(lr=0.001) #Stochastic gradient descent\n",
        "  custom_model.compile(optimizer=opt, loss='sparse_categorical_crossentropy', metrics=['accuracy'])\n",
        "\n",
        "  custom_model.summary()\n",
        "\n",
        "  \n",
        "\n",
        "  return custom_model"
      ],
      "execution_count": null,
      "outputs": []
    },
    {
      "cell_type": "code",
      "metadata": {
        "id": "2wmCDY4VAg_r",
        "colab": {
          "base_uri": "https://localhost:8080/"
        },
        "outputId": "bb14cdf4-4638-43d2-f5ca-23b6b260cefc"
      },
      "source": [
        "model = getModel( num_breeds = 35 )"
      ],
      "execution_count": null,
      "outputs": [
        {
          "output_type": "stream",
          "text": [
            "Model: \"vgg16\"\n",
            "_________________________________________________________________\n",
            "Layer (type)                 Output Shape              Param #   \n",
            "=================================================================\n",
            "input_4 (InputLayer)         [(None, 224, 224, 3)]     0         \n",
            "_________________________________________________________________\n",
            "block1_conv1 (Conv2D)        (None, 224, 224, 64)      1792      \n",
            "_________________________________________________________________\n",
            "block1_conv2 (Conv2D)        (None, 224, 224, 64)      36928     \n",
            "_________________________________________________________________\n",
            "block1_pool (MaxPooling2D)   (None, 112, 112, 64)      0         \n",
            "_________________________________________________________________\n",
            "block2_conv1 (Conv2D)        (None, 112, 112, 128)     73856     \n",
            "_________________________________________________________________\n",
            "block2_conv2 (Conv2D)        (None, 112, 112, 128)     147584    \n",
            "_________________________________________________________________\n",
            "block2_pool (MaxPooling2D)   (None, 56, 56, 128)       0         \n",
            "_________________________________________________________________\n",
            "block3_conv1 (Conv2D)        (None, 56, 56, 256)       295168    \n",
            "_________________________________________________________________\n",
            "block3_conv2 (Conv2D)        (None, 56, 56, 256)       590080    \n",
            "_________________________________________________________________\n",
            "block3_conv3 (Conv2D)        (None, 56, 56, 256)       590080    \n",
            "_________________________________________________________________\n",
            "block3_pool (MaxPooling2D)   (None, 28, 28, 256)       0         \n",
            "_________________________________________________________________\n",
            "block4_conv1 (Conv2D)        (None, 28, 28, 512)       1180160   \n",
            "_________________________________________________________________\n",
            "block4_conv2 (Conv2D)        (None, 28, 28, 512)       2359808   \n",
            "_________________________________________________________________\n",
            "block4_conv3 (Conv2D)        (None, 28, 28, 512)       2359808   \n",
            "_________________________________________________________________\n",
            "block4_pool (MaxPooling2D)   (None, 14, 14, 512)       0         \n",
            "_________________________________________________________________\n",
            "block5_conv1 (Conv2D)        (None, 14, 14, 512)       2359808   \n",
            "_________________________________________________________________\n",
            "block5_conv2 (Conv2D)        (None, 14, 14, 512)       2359808   \n",
            "_________________________________________________________________\n",
            "block5_conv3 (Conv2D)        (None, 14, 14, 512)       2359808   \n",
            "_________________________________________________________________\n",
            "block5_pool (MaxPooling2D)   (None, 7, 7, 512)         0         \n",
            "=================================================================\n",
            "Total params: 14,714,688\n",
            "Trainable params: 14,714,688\n",
            "Non-trainable params: 0\n",
            "_________________________________________________________________\n",
            "Model: \"model_3\"\n",
            "_________________________________________________________________\n",
            "Layer (type)                 Output Shape              Param #   \n",
            "=================================================================\n",
            "input_4 (InputLayer)         [(None, 224, 224, 3)]     0         \n",
            "_________________________________________________________________\n",
            "block1_conv1 (Conv2D)        (None, 224, 224, 64)      1792      \n",
            "_________________________________________________________________\n",
            "block1_conv2 (Conv2D)        (None, 224, 224, 64)      36928     \n",
            "_________________________________________________________________\n",
            "block1_pool (MaxPooling2D)   (None, 112, 112, 64)      0         \n",
            "_________________________________________________________________\n",
            "block2_conv1 (Conv2D)        (None, 112, 112, 128)     73856     \n",
            "_________________________________________________________________\n",
            "block2_conv2 (Conv2D)        (None, 112, 112, 128)     147584    \n",
            "_________________________________________________________________\n",
            "block2_pool (MaxPooling2D)   (None, 56, 56, 128)       0         \n",
            "_________________________________________________________________\n",
            "block3_conv1 (Conv2D)        (None, 56, 56, 256)       295168    \n",
            "_________________________________________________________________\n",
            "block3_conv2 (Conv2D)        (None, 56, 56, 256)       590080    \n",
            "_________________________________________________________________\n",
            "block3_conv3 (Conv2D)        (None, 56, 56, 256)       590080    \n",
            "_________________________________________________________________\n",
            "block3_pool (MaxPooling2D)   (None, 28, 28, 256)       0         \n",
            "_________________________________________________________________\n",
            "block4_conv1 (Conv2D)        (None, 28, 28, 512)       1180160   \n",
            "_________________________________________________________________\n",
            "block4_conv2 (Conv2D)        (None, 28, 28, 512)       2359808   \n",
            "_________________________________________________________________\n",
            "block4_conv3 (Conv2D)        (None, 28, 28, 512)       2359808   \n",
            "_________________________________________________________________\n",
            "block4_pool (MaxPooling2D)   (None, 14, 14, 512)       0         \n",
            "_________________________________________________________________\n",
            "block5_conv1 (Conv2D)        (None, 14, 14, 512)       2359808   \n",
            "_________________________________________________________________\n",
            "block5_conv2 (Conv2D)        (None, 14, 14, 512)       2359808   \n",
            "_________________________________________________________________\n",
            "block5_conv3 (Conv2D)        (None, 14, 14, 512)       2359808   \n",
            "_________________________________________________________________\n",
            "block5_pool (MaxPooling2D)   (None, 7, 7, 512)         0         \n",
            "_________________________________________________________________\n",
            "flatten_3 (Flatten)          (None, 25088)             0         \n",
            "_________________________________________________________________\n",
            "full_connected_1 (Dense)     (None, 512)               12845568  \n",
            "_________________________________________________________________\n",
            "full_connected_2 (Dense)     (None, 128)               65664     \n",
            "_________________________________________________________________\n",
            "output (Dense)               (None, 35)                4515      \n",
            "=================================================================\n",
            "Total params: 27,630,435\n",
            "Trainable params: 12,915,747\n",
            "Non-trainable params: 14,714,688\n",
            "_________________________________________________________________\n"
          ],
          "name": "stdout"
        },
        {
          "output_type": "stream",
          "text": [
            "/usr/local/lib/python3.7/dist-packages/tensorflow/python/keras/optimizer_v2/optimizer_v2.py:375: UserWarning: The `lr` argument is deprecated, use `learning_rate` instead.\n",
            "  \"The `lr` argument is deprecated, use `learning_rate` instead.\")\n"
          ],
          "name": "stderr"
        }
      ]
    },
    {
      "cell_type": "markdown",
      "metadata": {
        "id": "HSrJdh1-HhJn"
      },
      "source": [
        "# Loading Data\n"
      ]
    },
    {
      "cell_type": "code",
      "metadata": {
        "id": "qo6iFOE1HjSc",
        "colab": {
          "base_uri": "https://localhost:8080/"
        },
        "outputId": "8c07d193-29a8-4f3e-d609-798865f5179d"
      },
      "source": [
        "\n",
        "for i in range(1,11):\n",
        "\n",
        "    destination_filepath = BASE_PATH+'/batchs/'+'snakes_'+str(i)+'.h5'\n",
        "    with h5py.File(destination_filepath, \"r\") as f:\n",
        "        \n",
        "        print(\"Group:\",i)\n",
        "        \n",
        "        x = f[\"input_data\"][:]\n",
        "        y = f[\"input_labels\"][:]\n",
        "        x=x.reshape(x.shape[0],224,224,3)\n",
        "        x=preprocess_input(x*255)\n",
        "        \n",
        "        #print('x shape =', x.shape, '| y shape =', y.shape)\n",
        "\n",
        "\n",
        "    x_train, x_test, y_train, y_test = train_test_split(x, y, test_size=.20)\n",
        "    train(model,x_train,y_train,x_test,y_test , batch_size=32, epochs=10, model_name=\"modelA\")\n",
        "    #print(x_train.shape, y_train.shape, x_test.shape, y_test.shape)\n",
        "    #print(\"\\nDistribution of train classes\")\n",
        "    #print(pd.Series(y_train).value_counts())\n",
        "    #print(\"\\nDistribution of test classes\")\n",
        "    #print(pd.Series(y_test).value_counts())"
      ],
      "execution_count": null,
      "outputs": [
        {
          "output_type": "stream",
          "text": [
            "Group: 1\n",
            "Epoch 1/10\n",
            "52/52 [==============================] - 9s 159ms/step - loss: 10.0342 - accuracy: 0.0549 - val_loss: 3.5586 - val_accuracy: 0.0366\n",
            "Epoch 2/10\n",
            "52/52 [==============================] - 8s 155ms/step - loss: 3.4804 - accuracy: 0.0836 - val_loss: 3.7255 - val_accuracy: 0.0439\n",
            "Epoch 3/10\n",
            "52/52 [==============================] - 8s 156ms/step - loss: 3.3838 - accuracy: 0.0958 - val_loss: 3.5049 - val_accuracy: 0.0390\n",
            "Epoch 4/10\n",
            "52/52 [==============================] - 8s 156ms/step - loss: 3.3278 - accuracy: 0.1044 - val_loss: 3.4993 - val_accuracy: 0.0463\n",
            "Epoch 5/10\n",
            "52/52 [==============================] - 8s 156ms/step - loss: 3.2277 - accuracy: 0.1123 - val_loss: 3.5610 - val_accuracy: 0.0683\n",
            "Epoch 6/10\n",
            "52/52 [==============================] - 8s 156ms/step - loss: 3.1702 - accuracy: 0.1374 - val_loss: 3.4427 - val_accuracy: 0.0561\n",
            "Epoch 7/10\n",
            "52/52 [==============================] - 8s 156ms/step - loss: 3.1335 - accuracy: 0.1538 - val_loss: 3.7927 - val_accuracy: 0.0780\n",
            "Epoch 8/10\n",
            "52/52 [==============================] - 8s 157ms/step - loss: 3.0762 - accuracy: 0.1654 - val_loss: 3.6139 - val_accuracy: 0.0683\n",
            "Epoch 9/10\n",
            "52/52 [==============================] - 8s 158ms/step - loss: 3.1123 - accuracy: 0.1709 - val_loss: 3.5221 - val_accuracy: 0.0683\n",
            "Epoch 10/10\n",
            "52/52 [==============================] - 8s 158ms/step - loss: 2.9960 - accuracy: 0.1825 - val_loss: 3.5459 - val_accuracy: 0.0707\n",
            "13/13 [==============================] - 2s 126ms/step - loss: 3.5459 - accuracy: 0.0707\n",
            "Group: 2\n"
          ],
          "name": "stdout"
        }
      ]
    },
    {
      "cell_type": "markdown",
      "metadata": {
        "id": "qjsixfxdHfXk"
      },
      "source": [
        "# Training"
      ]
    },
    {
      "cell_type": "code",
      "metadata": {
        "id": "RjzsK0W5DI3J"
      },
      "source": [
        "def train(model,x_train,y_train,x_test,y_test , batch_size, epochs, model_name=\"\"):\n",
        "    model.fit(x_train, y_train, epochs=epochs,\n",
        "              batch_size=batch_size,\n",
        "              validation_data=(x_test, y_test))\n",
        "    metrics = model.evaluate(x_test, y_test)\n",
        "    return {k:v for k,v in zip (model.metrics_names, metrics)}"
      ],
      "execution_count": null,
      "outputs": []
    },
    {
      "cell_type": "markdown",
      "metadata": {
        "id": "arTYsQ2v1aDX"
      },
      "source": [
        "Predict with VGG16 - No custom\n"
      ]
    },
    {
      "cell_type": "code",
      "metadata": {
        "colab": {
          "base_uri": "https://localhost:8080/",
          "height": 467
        },
        "id": "LgLwSmw-RhZv",
        "outputId": "642482ee-9a93-4a2d-a73a-ddd39f535def"
      },
      "source": [
        "\n",
        "df_decode = pd.read_csv('decode_breed_noid.csv')\n",
        "modelo=VGG16(\n",
        "    include_top=True,\n",
        "    weights=\"imagenet\",\n",
        "    input_tensor=None,\n",
        "    input_shape=None,\n",
        "    pooling=None,\n",
        "    classes=1000,\n",
        "    classifier_activation=\"softmax\",\n",
        ")\n",
        "\n",
        "i =  0#random.randint(0,1024)\n",
        "print(df_decode['breed'][y[i]])\n",
        "plt.imshow(xx[i])\n",
        "\n",
        "image=xx[:1]*255\n",
        "# prepare the image for the VGG model\n",
        "image = preprocess_input(image) \n",
        "#print(image)\n",
        "# predict the probability across all output classes\n",
        "yhat = modelo.predict(image)\n",
        "print(yhat.sum(axis=1))\n",
        "# convert the probabilities to class labels\n",
        "label = decode_predictions(yhat)\n",
        "print(label[i])\n",
        "# retrieve the most likely result, e.g. highest probabili"
      ],
      "execution_count": null,
      "outputs": [
        {
          "output_type": "error",
          "ename": "FileNotFoundError",
          "evalue": "ignored",
          "traceback": [
            "\u001b[0;31m---------------------------------------------------------------------------\u001b[0m",
            "\u001b[0;31mFileNotFoundError\u001b[0m                         Traceback (most recent call last)",
            "\u001b[0;32m<ipython-input-18-fd956b581d88>\u001b[0m in \u001b[0;36m<module>\u001b[0;34m()\u001b[0m\n\u001b[1;32m      4\u001b[0m \u001b[0;32mfrom\u001b[0m \u001b[0mkeras\u001b[0m\u001b[0;34m.\u001b[0m\u001b[0mapplications\u001b[0m\u001b[0;34m.\u001b[0m\u001b[0mvgg16\u001b[0m \u001b[0;32mimport\u001b[0m \u001b[0mdecode_predictions\u001b[0m\u001b[0;34m\u001b[0m\u001b[0;34m\u001b[0m\u001b[0m\n\u001b[1;32m      5\u001b[0m \u001b[0;32mfrom\u001b[0m \u001b[0mkeras\u001b[0m\u001b[0;34m.\u001b[0m\u001b[0mapplications\u001b[0m \u001b[0;32mimport\u001b[0m \u001b[0mvgg16\u001b[0m\u001b[0;34m\u001b[0m\u001b[0;34m\u001b[0m\u001b[0m\n\u001b[0;32m----> 6\u001b[0;31m \u001b[0mdf_decode\u001b[0m \u001b[0;34m=\u001b[0m \u001b[0mpd\u001b[0m\u001b[0;34m.\u001b[0m\u001b[0mread_csv\u001b[0m\u001b[0;34m(\u001b[0m\u001b[0;34m'decode_breed_noid.csv'\u001b[0m\u001b[0;34m)\u001b[0m\u001b[0;34m\u001b[0m\u001b[0;34m\u001b[0m\u001b[0m\n\u001b[0m\u001b[1;32m      7\u001b[0m modelo=VGG16(\n\u001b[1;32m      8\u001b[0m     \u001b[0minclude_top\u001b[0m\u001b[0;34m=\u001b[0m\u001b[0;32mTrue\u001b[0m\u001b[0;34m,\u001b[0m\u001b[0;34m\u001b[0m\u001b[0;34m\u001b[0m\u001b[0m\n",
            "\u001b[0;32m/usr/local/lib/python3.7/dist-packages/pandas/io/parsers.py\u001b[0m in \u001b[0;36mread_csv\u001b[0;34m(filepath_or_buffer, sep, delimiter, header, names, index_col, usecols, squeeze, prefix, mangle_dupe_cols, dtype, engine, converters, true_values, false_values, skipinitialspace, skiprows, skipfooter, nrows, na_values, keep_default_na, na_filter, verbose, skip_blank_lines, parse_dates, infer_datetime_format, keep_date_col, date_parser, dayfirst, cache_dates, iterator, chunksize, compression, thousands, decimal, lineterminator, quotechar, quoting, doublequote, escapechar, comment, encoding, dialect, error_bad_lines, warn_bad_lines, delim_whitespace, low_memory, memory_map, float_precision)\u001b[0m\n\u001b[1;32m    686\u001b[0m     )\n\u001b[1;32m    687\u001b[0m \u001b[0;34m\u001b[0m\u001b[0m\n\u001b[0;32m--> 688\u001b[0;31m     \u001b[0;32mreturn\u001b[0m \u001b[0m_read\u001b[0m\u001b[0;34m(\u001b[0m\u001b[0mfilepath_or_buffer\u001b[0m\u001b[0;34m,\u001b[0m \u001b[0mkwds\u001b[0m\u001b[0;34m)\u001b[0m\u001b[0;34m\u001b[0m\u001b[0;34m\u001b[0m\u001b[0m\n\u001b[0m\u001b[1;32m    689\u001b[0m \u001b[0;34m\u001b[0m\u001b[0m\n\u001b[1;32m    690\u001b[0m \u001b[0;34m\u001b[0m\u001b[0m\n",
            "\u001b[0;32m/usr/local/lib/python3.7/dist-packages/pandas/io/parsers.py\u001b[0m in \u001b[0;36m_read\u001b[0;34m(filepath_or_buffer, kwds)\u001b[0m\n\u001b[1;32m    452\u001b[0m \u001b[0;34m\u001b[0m\u001b[0m\n\u001b[1;32m    453\u001b[0m     \u001b[0;31m# Create the parser.\u001b[0m\u001b[0;34m\u001b[0m\u001b[0;34m\u001b[0m\u001b[0;34m\u001b[0m\u001b[0m\n\u001b[0;32m--> 454\u001b[0;31m     \u001b[0mparser\u001b[0m \u001b[0;34m=\u001b[0m \u001b[0mTextFileReader\u001b[0m\u001b[0;34m(\u001b[0m\u001b[0mfp_or_buf\u001b[0m\u001b[0;34m,\u001b[0m \u001b[0;34m**\u001b[0m\u001b[0mkwds\u001b[0m\u001b[0;34m)\u001b[0m\u001b[0;34m\u001b[0m\u001b[0;34m\u001b[0m\u001b[0m\n\u001b[0m\u001b[1;32m    455\u001b[0m \u001b[0;34m\u001b[0m\u001b[0m\n\u001b[1;32m    456\u001b[0m     \u001b[0;32mif\u001b[0m \u001b[0mchunksize\u001b[0m \u001b[0;32mor\u001b[0m \u001b[0miterator\u001b[0m\u001b[0;34m:\u001b[0m\u001b[0;34m\u001b[0m\u001b[0;34m\u001b[0m\u001b[0m\n",
            "\u001b[0;32m/usr/local/lib/python3.7/dist-packages/pandas/io/parsers.py\u001b[0m in \u001b[0;36m__init__\u001b[0;34m(self, f, engine, **kwds)\u001b[0m\n\u001b[1;32m    946\u001b[0m             \u001b[0mself\u001b[0m\u001b[0;34m.\u001b[0m\u001b[0moptions\u001b[0m\u001b[0;34m[\u001b[0m\u001b[0;34m\"has_index_names\"\u001b[0m\u001b[0;34m]\u001b[0m \u001b[0;34m=\u001b[0m \u001b[0mkwds\u001b[0m\u001b[0;34m[\u001b[0m\u001b[0;34m\"has_index_names\"\u001b[0m\u001b[0;34m]\u001b[0m\u001b[0;34m\u001b[0m\u001b[0;34m\u001b[0m\u001b[0m\n\u001b[1;32m    947\u001b[0m \u001b[0;34m\u001b[0m\u001b[0m\n\u001b[0;32m--> 948\u001b[0;31m         \u001b[0mself\u001b[0m\u001b[0;34m.\u001b[0m\u001b[0m_make_engine\u001b[0m\u001b[0;34m(\u001b[0m\u001b[0mself\u001b[0m\u001b[0;34m.\u001b[0m\u001b[0mengine\u001b[0m\u001b[0;34m)\u001b[0m\u001b[0;34m\u001b[0m\u001b[0;34m\u001b[0m\u001b[0m\n\u001b[0m\u001b[1;32m    949\u001b[0m \u001b[0;34m\u001b[0m\u001b[0m\n\u001b[1;32m    950\u001b[0m     \u001b[0;32mdef\u001b[0m \u001b[0mclose\u001b[0m\u001b[0;34m(\u001b[0m\u001b[0mself\u001b[0m\u001b[0;34m)\u001b[0m\u001b[0;34m:\u001b[0m\u001b[0;34m\u001b[0m\u001b[0;34m\u001b[0m\u001b[0m\n",
            "\u001b[0;32m/usr/local/lib/python3.7/dist-packages/pandas/io/parsers.py\u001b[0m in \u001b[0;36m_make_engine\u001b[0;34m(self, engine)\u001b[0m\n\u001b[1;32m   1178\u001b[0m     \u001b[0;32mdef\u001b[0m \u001b[0m_make_engine\u001b[0m\u001b[0;34m(\u001b[0m\u001b[0mself\u001b[0m\u001b[0;34m,\u001b[0m \u001b[0mengine\u001b[0m\u001b[0;34m=\u001b[0m\u001b[0;34m\"c\"\u001b[0m\u001b[0;34m)\u001b[0m\u001b[0;34m:\u001b[0m\u001b[0;34m\u001b[0m\u001b[0;34m\u001b[0m\u001b[0m\n\u001b[1;32m   1179\u001b[0m         \u001b[0;32mif\u001b[0m \u001b[0mengine\u001b[0m \u001b[0;34m==\u001b[0m \u001b[0;34m\"c\"\u001b[0m\u001b[0;34m:\u001b[0m\u001b[0;34m\u001b[0m\u001b[0;34m\u001b[0m\u001b[0m\n\u001b[0;32m-> 1180\u001b[0;31m             \u001b[0mself\u001b[0m\u001b[0;34m.\u001b[0m\u001b[0m_engine\u001b[0m \u001b[0;34m=\u001b[0m \u001b[0mCParserWrapper\u001b[0m\u001b[0;34m(\u001b[0m\u001b[0mself\u001b[0m\u001b[0;34m.\u001b[0m\u001b[0mf\u001b[0m\u001b[0;34m,\u001b[0m \u001b[0;34m**\u001b[0m\u001b[0mself\u001b[0m\u001b[0;34m.\u001b[0m\u001b[0moptions\u001b[0m\u001b[0;34m)\u001b[0m\u001b[0;34m\u001b[0m\u001b[0;34m\u001b[0m\u001b[0m\n\u001b[0m\u001b[1;32m   1181\u001b[0m         \u001b[0;32melse\u001b[0m\u001b[0;34m:\u001b[0m\u001b[0;34m\u001b[0m\u001b[0;34m\u001b[0m\u001b[0m\n\u001b[1;32m   1182\u001b[0m             \u001b[0;32mif\u001b[0m \u001b[0mengine\u001b[0m \u001b[0;34m==\u001b[0m \u001b[0;34m\"python\"\u001b[0m\u001b[0;34m:\u001b[0m\u001b[0;34m\u001b[0m\u001b[0;34m\u001b[0m\u001b[0m\n",
            "\u001b[0;32m/usr/local/lib/python3.7/dist-packages/pandas/io/parsers.py\u001b[0m in \u001b[0;36m__init__\u001b[0;34m(self, src, **kwds)\u001b[0m\n\u001b[1;32m   2008\u001b[0m         \u001b[0mkwds\u001b[0m\u001b[0;34m[\u001b[0m\u001b[0;34m\"usecols\"\u001b[0m\u001b[0;34m]\u001b[0m \u001b[0;34m=\u001b[0m \u001b[0mself\u001b[0m\u001b[0;34m.\u001b[0m\u001b[0musecols\u001b[0m\u001b[0;34m\u001b[0m\u001b[0;34m\u001b[0m\u001b[0m\n\u001b[1;32m   2009\u001b[0m \u001b[0;34m\u001b[0m\u001b[0m\n\u001b[0;32m-> 2010\u001b[0;31m         \u001b[0mself\u001b[0m\u001b[0;34m.\u001b[0m\u001b[0m_reader\u001b[0m \u001b[0;34m=\u001b[0m \u001b[0mparsers\u001b[0m\u001b[0;34m.\u001b[0m\u001b[0mTextReader\u001b[0m\u001b[0;34m(\u001b[0m\u001b[0msrc\u001b[0m\u001b[0;34m,\u001b[0m \u001b[0;34m**\u001b[0m\u001b[0mkwds\u001b[0m\u001b[0;34m)\u001b[0m\u001b[0;34m\u001b[0m\u001b[0;34m\u001b[0m\u001b[0m\n\u001b[0m\u001b[1;32m   2011\u001b[0m         \u001b[0mself\u001b[0m\u001b[0;34m.\u001b[0m\u001b[0munnamed_cols\u001b[0m \u001b[0;34m=\u001b[0m \u001b[0mself\u001b[0m\u001b[0;34m.\u001b[0m\u001b[0m_reader\u001b[0m\u001b[0;34m.\u001b[0m\u001b[0munnamed_cols\u001b[0m\u001b[0;34m\u001b[0m\u001b[0;34m\u001b[0m\u001b[0m\n\u001b[1;32m   2012\u001b[0m \u001b[0;34m\u001b[0m\u001b[0m\n",
            "\u001b[0;32mpandas/_libs/parsers.pyx\u001b[0m in \u001b[0;36mpandas._libs.parsers.TextReader.__cinit__\u001b[0;34m()\u001b[0m\n",
            "\u001b[0;32mpandas/_libs/parsers.pyx\u001b[0m in \u001b[0;36mpandas._libs.parsers.TextReader._setup_parser_source\u001b[0;34m()\u001b[0m\n",
            "\u001b[0;31mFileNotFoundError\u001b[0m: [Errno 2] No such file or directory: 'decode_breed_noid.csv'"
          ]
        }
      ]
    }
  ]
}