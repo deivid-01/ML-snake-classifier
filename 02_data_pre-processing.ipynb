{
 "cells": [
  {
   "cell_type": "markdown",
   "metadata": {},
   "source": [
    "# Pre-processing data  - Snakeclef2021"
   ]
  },
  {
   "cell_type": "markdown",
   "metadata": {
    "id": "7irW4YyfLMM2"
   },
   "source": [
    "About:\n",
    "- This notebook focus on preprocessing data that will be  use for test and training.\n",
    "---\n",
    "David Andrés Torres Betancour <br/>\n",
    "Computer Engineering  Student <br/>\n",
    "University of Antioquia <br/>\n",
    "davida.torres@udea.edu.co"
   ]
  },
  {
   "cell_type": "markdown",
   "metadata": {
    "id": "xwTmy6SpJP1I"
   },
   "source": [
    "## Importing Libraries"
   ]
  },
  {
   "cell_type": "code",
   "execution_count": 1,
   "metadata": {
    "id": "ITw3_oSTaS3p",
    "tags": []
   },
   "outputs": [],
   "source": [
    "import h5py\n",
    "import numpy as np\n",
    "import cv2\n",
    "import math\n",
    "import time\n",
    "import random\n",
    "import json\n",
    "import matplotlib.pyplot as plt\n",
    "import pandas as pd\n",
    "import numpy as np\n",
    "from tqdm import tqdm\n",
    "import os\n",
    "from sklearn.preprocessing import LabelEncoder\n",
    "LE = LabelEncoder()\n",
    "%matplotlib inline"
   ]
  },
  {
   "cell_type": "markdown",
   "metadata": {
    "id": "Ftzm7LcGD1FG"
   },
   "source": [
    "## Tools"
   ]
  },
  {
   "cell_type": "markdown",
   "metadata": {
    "id": "1QVKZa2FD33o"
   },
   "source": [
    "### Kaggle Tools"
   ]
  },
  {
   "cell_type": "code",
   "execution_count": 2,
   "metadata": {
    "id": "KpT7w6SrEDHm"
   },
   "outputs": [],
   "source": [
    "class bcolors:\n",
    "    HEADER = '\\033[95m'\n",
    "    OKBLUE = '\\033[94m'\n",
    "    OKCYAN = '\\033[96m'\n",
    "    OKGREEN = '\\033[92m'\n",
    "    WARNING = '\\033[93m'\n",
    "    FAIL = '\\033[91m'\n",
    "    ENDC = '\\033[0m'\n",
    "    BOLD = '\\033[1m'\n",
    "    UNDERLINE = '\\033[4m'\n",
    "\n",
    "def checkIfFileExist(file_name):\n",
    "    return os.path.exists(os.path.abspath(file_name))\n",
    "\n",
    "def credentialsUploaded():\n",
    "  first_time = True;\n",
    "  waiting_time = 0\n",
    "  print()\n",
    "  while checkIfFileExist('kaggle.json')==False and  waiting_time<180:\n",
    "      if first_time:\n",
    "        print(bcolors.BOLD + \"Upload kaggle.json file following the above instructions ^^^^^^^^\\n \" + bcolors.ENDC)   \n",
    "        print(bcolors.WARNING + \"Waiting user upload kaggle.json file in root folder\\n\" + bcolors.ENDC)  \n",
    "        first_time = False\n",
    "      time.sleep(2)\n",
    "      waiting_time +=2\n",
    "  if waiting_time>=120:\n",
    "      raise Exception(\"kaggle.json file has not been uploaded\") \n",
    "  print(bcolors.OKGREEN + \" kaggle.json file uploaded!\" + bcolors.ENDC)   \n",
    "  os.environ['KAGGLE_CONFIG_DIR'] = os.getcwd() #Setup kaggle.json dir\n",
    "\n",
    "def relocateData():\n",
    "    !tar -xf snakeclef2021.zip -v\n",
    "    !del snakeclef2021.zip \n",
    "    !mkdir kaggle_data\n",
    "    !move data kaggle_data\n",
    "    !move data.csv kaggle_data \n",
    "\n",
    "\n",
    "def unzipData():\n",
    "    !tar -xf snakeclef2021.zip -v\n",
    "    !del snakeclef2021.zip \n",
    "\n",
    "def fetchDatasetFromKaggle(dataset_name, force_fetch=False):\n",
    "    \n",
    "  print(bcolors.BOLD + \"Fetching data from kaggle ( This may take some time)...\" + bcolors.ENDC)   \n",
    "  if force_fetch==True:\n",
    "   ! kaggle datasets download -d deividt/{dataset_name} --force #Download dataset\n",
    "         \n",
    "   process_info=! kaggle datasets download -d deividt/{dataset_name} --force #Download dataset\n",
    "   if \"100%\" in list(process_info)[-1]:\n",
    "       print(bcolors.OKGREEN + \"Data from kaggle successfully fetch\\n\" + bcolors.ENDC)\n",
    "       print(bcolors.BOLD + \"Unzipping data... s\\n\" + bcolors.ENDC)\n",
    "       unzipData()\n",
    "       print(bcolors.BOLD + \"Relocating data... s\\n\" + bcolors.ENDC)\n",
    "       relocateData()\n",
    "       print(bcolors.OKGREEN + \"Data is ready in your local folder!\\n\" + bcolors.ENDC)\n",
    "   elif \"404 - Not Found\" in list(process_info)[0]: \n",
    "       print(bcolors.FAIL + \"404 - Dataset  Not Found in 'deividt' Account\\n\" + bcolors.ENDC)\n",
    "   else:\n",
    "       assert False,list(process_info)[-1]\n",
    "\n",
    "  else:\n",
    "    if checkIfFileExist(\"kaggle_data\"):\n",
    "       print(bcolors.WARNING + \"Data already exists locally\\nIf you want force fetch set force_fetch parameter to True\" + bcolors.ENDC)\n",
    "       return\n",
    "    process_info =  ! kaggle datasets download -d deividt/{dataset_name} \n",
    "    if \"Skipping\" in list(process_info)[0]:\n",
    "       print(bcolors.WARNING + \"Data already exists locally\\nIf you want force fetch set force_fetch parameter to True\" + bcolors.ENDC)\n",
    "    elif \"100%\" in list(process_info)[-1]:\n",
    "        print(bcolors.OKGREEN + \"Data from kaggle successfully fetch\\n\" + bcolors.ENDC)\n",
    "        print(bcolors.BOLD + \"Unzipping data... s\\n\" + bcolors.ENDC)\n",
    "        unzipData()\n",
    "        print(bcolors.BOLD + \"Relocating data... s\\n\" + bcolors.ENDC)\n",
    "        relocateData()\n",
    "        print(bcolors.OKGREEN + \"Data is ready in  kaggle_data folder!\\n\" + bcolors.ENDC)\n",
    "    elif \"404 - Not Found\" in list(process_info)[0]: \n",
    "        print(bcolors.FAIL + \"404 - Dataset  Not Found in 'deividt' Account\\n\" + bcolors.ENDC)\n",
    "    else:\n",
    "        assert False,list(process_info)[-1]\n",
    "\n",
    "def kaggle_setConfig(dataset_title=\"testing\"):\n",
    "\n",
    "  fileName=os.path.abspath('pre_proccesed_data/dataset-metadata.json')\n",
    "  !kaggle datasets init -p  {os.path.abspath('pre_proccesed_data')}\n",
    "  addTitle2JSON(fileName,dataset_title)\n",
    "\n",
    "def kaggle_createDataset(public=False):\n",
    "  if public: \n",
    "    !kaggle datasets create -p  {os.path.abspath('pre_proccesed_data')} -u\n",
    "  else: \n",
    "    !kaggle datasets create -p  {os.path.abspath('pre_proccesed_data')}\n",
    "   \n",
    "def kaggle_updateDataset(commit_message='Updating files'):\n",
    "   !kaggle datasets version -p {os.path.abspath('pre_proccesed_data')} -m commit_message\n",
    "\n",
    "def kaggle_saveData():\n",
    "  \n",
    "  res = input(\"Do you want upload created data in  your kaggle Account? [y/n] \")\n",
    "  \n",
    "  if  res.lower()!=\"y\" :\n",
    "    return print(\"Upload canceled\")\n",
    "\n",
    "  res = readOption( msg = \"Create new dataset[1] or update old one[2]? [1/2]\")\n",
    "  \n",
    "  dataset_title = input(\"Enter dataset name: \")\n",
    "  assert len(res)>0 , \"Invalid length \"\n",
    "\n",
    "  kaggle_setConfig(dataset_title)\n",
    "\n",
    "  if res==\"1\": #Create new dataset\n",
    "    res = readOption( msg = \"Create dataset Private[1] or Public [2]? [1/2]\" )\n",
    "    public_dataset = True if int(res)==2 else False\n",
    "    kaggle_createDataset(public_dataset)\n",
    "  elif res==\"2\": #Update dataset\n",
    "    commit_msg = input (\"Enter commit message (Ex. 'version 1.4') : \")\n",
    "    print(bcolors.WARNING + f\"Updating dataset in kaggle... \\n\" + bcolors.ENDC)\n",
    "    kaggle_updateDataset(commit_msg)\n"
   ]
  },
  {
   "cell_type": "markdown",
   "metadata": {
    "id": "5I9Q_D6jEJOF"
   },
   "source": [
    "### Preprocessing Tools"
   ]
  },
  {
   "cell_type": "code",
   "execution_count": 3,
   "metadata": {
    "id": "68PY5R8GfLno"
   },
   "outputs": [],
   "source": [
    "def reOrderForGrouping(dataF,group_size):\n",
    "\n",
    "  dataF.sample(frac = 1)#Shuffle dataframe\n",
    "  newDf = pd.DataFrame({'image_path' : [],'breed' : [],'breed_encode' : []})\n",
    "  \n",
    "  min_breedCount = dataF['breed'].value_counts()[-1]\n",
    "\n",
    "  breeds = pd.unique(dataF['breed'])\n",
    "  class_size = group_size //len(breeds)\n",
    "\n",
    "  totalGroups = min_breedCount//class_size\n",
    " \n",
    "  for i in range(totalGroups):\n",
    "\n",
    "      for breed in   breeds :\n",
    "          df_breed = dataF[dataF.breed==breed]\n",
    "          df_breed = df_breed[class_size*i:class_size*(i+1)]\n",
    "          newDf = newDf.append( df_breed )\n",
    "  \n",
    "  return newDf     \n",
    "\n",
    "def selectTopBreeds(dataF,num=10):\n",
    "    selected=dataF['binomial'].value_counts()[:num]\n",
    "    return selected.index.tolist();\n",
    "\n",
    "\n",
    "\n",
    "\n",
    "def normalize_and_write_data_into_h5_file(dataF,dest_filepath, n_px):\n",
    "    \n",
    "\n",
    "    data_shape = (len(dataF), n_px * n_px * 3)\n",
    "    dataset_name = \"input_data\"\n",
    "    \n",
    "\n",
    "    with h5py.File(dest_filepath, 'a') as f:\n",
    "        f.create_dataset(dataset_name, data_shape, np.float32)      \n",
    "        for i,image_id in enumerate(dataF['image_path']):\n",
    "            path  = os.path.abspath(f'kaggle_data/{image_id}')\n",
    "            try:\n",
    "          \n",
    "              img=cv2.imread(path)\n",
    "              img = cv2.resize(img, (n_px, n_px), interpolation=cv2.INTER_CUBIC)\n",
    "              img = cv2.cvtColor(img, cv2.COLOR_BGR2RGB)\n",
    "              #Normalize the image - convert the each pixel value between 0 and 1\n",
    "              img = img / 255\n",
    "                #Reshape the image - roll it up into a column vector\n",
    "              img = img.ravel()            \n",
    "              #img[None] makes it a proper array instead of rank 1 array\n",
    "              f[dataset_name][i, ...] = img[None]\n",
    "            except:\n",
    "              continue\n",
    "    return;\n",
    "\n",
    "\n",
    "def fixImagePath(dataF):\n",
    "    imgs_paths=dataF.image_path.tolist()\n",
    "    for i,img_path in enumerate(imgs_paths):\n",
    "        imgs_paths[i]='data/'+img_path.split('/')[-1]   \n",
    "    return imgs_paths\n",
    "def savePreproccessedCSV(dataF):\n",
    "  !mkdir pre_proccesed_data\n",
    "  dataF.to_csv(os.path.abspath('pre_proccesed_data/pre_proccessed_data.csv'))\n",
    "  print(bcolors.OKGREEN + \"pre_proccessed_data.csv saved!\\n\" + bcolors.ENDC)\n"
   ]
  },
  {
   "cell_type": "markdown",
   "metadata": {
    "id": "E_GpfXimEQ6W"
   },
   "source": [
    "### File Tools "
   ]
  },
  {
   "cell_type": "code",
   "execution_count": 4,
   "metadata": {
    "id": "305wC_FmEQX3"
   },
   "outputs": [],
   "source": [
    "def write_labels_into_h5_file(dest_filepath, labels):\n",
    "    \n",
    "    dataset_name = \"input_labels\"\n",
    "    \n",
    "    with h5py.File(dest_filepath, 'a') as f:\n",
    "        f.create_dataset(dataset_name, (len(labels),), np.int8)\n",
    "        f[dataset_name][...] = labels\n",
    "\n",
    "def convert_images_to_data_in_h5_file(dataF, dest_h5_file_path, n_px, batch_size = 1024):\n",
    "    \n",
    "\n",
    "\n",
    "    #Create Labels based upon the substring contained in the filename\n",
    "    labels = (dataF['breed_encode']).to_numpy()\n",
    "    \n",
    "    #Number of images\n",
    "    m = len(dataF) \n",
    "    n_complete_batches = math.ceil(m / batch_size)\n",
    "    pbar = tqdm(range(n_complete_batches))\n",
    "    for i in pbar:\n",
    "        pbar.set_description(\"Creating .h5 file for group %s\" % i)\n",
    "       \n",
    "        \n",
    "        dest_file_path = dest_h5_file_path + str(i + 1) + \".h5\"   \n",
    "        \n",
    "        start_pos = i * batch_size\n",
    "        end_pos = min(start_pos + batch_size, m)\n",
    "        df_filepaths_batch = dataF.iloc[start_pos: end_pos]\n",
    "        labels_batch = labels[start_pos: end_pos]\n",
    "        normalize_and_write_data_into_h5_file(df_filepaths_batch,dest_file_path, n_px)\n",
    "        write_labels_into_h5_file(dest_file_path, labels_batch)\n",
    "\n",
    "    print(bcolors.OKGREEN + \"Images successfully saved in .h5 files !\\n\" + bcolors.ENDC)\n",
    "\n",
    "def addTitle2JSON(fileName,dataset_title):\n",
    "    data = readFile(fileName)\n",
    "    data = addTitle2Data(data,dataset_title)\n",
    "    writeFile(fileName,data)\n",
    "    \n",
    "def writeFile(fileName,data):\n",
    "  with open(fileName,'w') as json_file:\n",
    "      # Guardar la informacion\n",
    "      json.dump(data,json_file)\n",
    "      print(\"File \"+fileName+\" updated\")\n",
    "\n",
    "def readFile(fileName):\n",
    "  with open(fileName, \"r\") as json_file: \n",
    "     return json.load(json_file)\n",
    "\n",
    "def addTitle2Data(data,title):\n",
    "  data['id'] = data['id'].split('/')[0]+'/'+title\n",
    "  data['title'] = title\n",
    "  return data\n",
    "def readOption(msg):\n",
    "\n",
    "  res = input(msg)\n",
    "  assert res=='1' or res=='2',\"Invalid option\"\n",
    "  return res"
   ]
  },
  {
   "cell_type": "markdown",
   "metadata": {
    "id": "eNVkvkmzEx3Z"
   },
   "source": [
    "### Extra Tools"
   ]
  },
  {
   "cell_type": "code",
   "execution_count": 5,
   "metadata": {
    "id": "ds4cOAbcD9JP"
   },
   "outputs": [],
   "source": [
    "def showRandomImage(x,y): \n",
    "  index = random.randint(0,x.shape[0])\n",
    "  \n",
    "  image = x[index]\n",
    "  plt.imshow(image)\n",
    "  print(\"Img shape:\",image.shape)\n",
    "  print('breed:', y[index])\n",
    "\n",
    "def getRandomGroup(max_groups=1):\n",
    "\n",
    "  group_num =str(random.randint(1,max_groups))\n",
    "  destination_filepath =os.path.abspath('pre_proccesed_data/groups/group_'+group_num+'.h5')\n",
    "  with h5py.File(destination_filepath, \"r\") as f:\n",
    "      \n",
    "      \n",
    "      print(bcolors.WARNING + f\"Reading data from group {group_num} !\\n\" + bcolors.ENDC)\n",
    "\n",
    "      x = f[\"input_data\"][:]\n",
    "      x = x.reshape(x.shape[0],224,224,3)\n",
    "\n",
    "      y = f[\"input_labels\"][:]\n",
    "\n",
    "      print(\"Keys: \",list(f.keys()))\n",
    "      print('x shape =', x.shape, '| y shape =', y.shape)\n",
    "      \n",
    "      \n",
    "      \n",
    "      return x,y,group_num"
   ]
  },
  {
   "cell_type": "markdown",
   "metadata": {
    "id": "I1MeBtMnFMH_"
   },
   "source": [
    "## Preprocessing data"
   ]
  },
  {
   "cell_type": "markdown",
   "metadata": {
    "id": "YdbopoCAFVMt"
   },
   "source": [
    "\n",
    "\n",
    "### 0)   Fetch and read data :\n",
    "\n"
   ]
  },
  {
   "cell_type": "markdown",
   "metadata": {
    "id": "gKAqQaJIHx8_"
   },
   "source": [
    "1. Upload Kaggle credentials file ( kaggle.json  ) "
   ]
  },
  {
   "cell_type": "markdown",
   "metadata": {},
   "source": [
    " - In order to use the Kaggle’s public API, you must first authenticate using an API token. For that follow the next steps: <br/> <br/>\n",
    "     1. Go to https://www.kaggle.com/\n",
    "     2. Click on your user profile picture\n",
    "     3. Then on \"Account\" from the dropdown menu. This will take you yo your account settings\n",
    "     4. Scroll down to the section of the page labelled API\n",
    "     5. To create a new token, click on the “Create New API Token” button. This will download a fresh authentication token onto your machine named \"kaggle.json\"\n",
    "     6.  <font color='red'>YOU MUST UPLOAD kaggle.json FILE in the ROOT FOLDER/)</font> \n",
    "\n"
   ]
  },
  {
   "cell_type": "code",
   "execution_count": 6,
   "metadata": {},
   "outputs": [
    {
     "name": "stdout",
     "output_type": "stream",
     "text": [
      "\n",
      "\u001b[92m kaggle.json file uploaded!\u001b[0m\n"
     ]
    }
   ],
   "source": [
    "credentialsUploaded()"
   ]
  },
  {
   "cell_type": "markdown",
   "metadata": {
    "id": "bg2m-28l3V7K"
   },
   "source": [
    "2. Downloading original dataset [snakeclef2021](https://www.kaggle.com/deividt/snakeclef2021) from Kaggle. \n",
    "<br/>\n",
    "<font color='red'>Fetching data and unzipping files can take several minutes ( at least 30 min)  </font> \n",
    "<br/>\n"
   ]
  },
  {
   "cell_type": "code",
   "execution_count": 7,
   "metadata": {
    "tags": []
   },
   "outputs": [
    {
     "name": "stdout",
     "output_type": "stream",
     "text": [
      "\u001b[1mFetching data from kaggle ( This may take some time)...\u001b[0m\n",
      "\u001b[93mData already exists locally\n",
      "If you want force fetch set force_fetch parameter to True\u001b[0m\n"
     ]
    }
   ],
   "source": [
    "fetchDatasetFromKaggle( dataset_name = \"snakeclef2021\")"
   ]
  },
  {
   "cell_type": "markdown",
   "metadata": {
    "id": "JgBaDoe_FdaE"
   },
   "source": [
    "3. Read .csv :"
   ]
  },
  {
   "cell_type": "code",
   "execution_count": 8,
   "metadata": {
    "colab": {
     "base_uri": "https://localhost:8080/",
     "height": 204
    },
    "id": "DF8s9B8f0p8h",
    "outputId": "e1e9198e-7124-49f5-a6af-609851eaaf26"
   },
   "outputs": [
    {
     "data": {
      "text/html": [
       "<div>\n",
       "<style scoped>\n",
       "    .dataframe tbody tr th:only-of-type {\n",
       "        vertical-align: middle;\n",
       "    }\n",
       "\n",
       "    .dataframe tbody tr th {\n",
       "        vertical-align: top;\n",
       "    }\n",
       "\n",
       "    .dataframe thead th {\n",
       "        text-align: right;\n",
       "    }\n",
       "</style>\n",
       "<table border=\"1\" class=\"dataframe\">\n",
       "  <thead>\n",
       "    <tr style=\"text-align: right;\">\n",
       "      <th></th>\n",
       "      <th>binomial</th>\n",
       "      <th>country</th>\n",
       "      <th>continent</th>\n",
       "      <th>genus</th>\n",
       "      <th>family</th>\n",
       "      <th>UUID</th>\n",
       "      <th>source</th>\n",
       "      <th>subset</th>\n",
       "      <th>class_id</th>\n",
       "      <th>image_path</th>\n",
       "    </tr>\n",
       "  </thead>\n",
       "  <tbody>\n",
       "    <tr>\n",
       "      <th>0</th>\n",
       "      <td>Pantherophis spiloides</td>\n",
       "      <td>United States of America</td>\n",
       "      <td>North America</td>\n",
       "      <td>Pantherophis</td>\n",
       "      <td>Colubridae</td>\n",
       "      <td>fbc816e9552643a2bce4f655b2f3c4e1</td>\n",
       "      <td>inaturalist</td>\n",
       "      <td>train</td>\n",
       "      <td>523</td>\n",
       "      <td>/Datasets/SnakeCLEF-2021/inaturalist/fbc816e95...</td>\n",
       "    </tr>\n",
       "    <tr>\n",
       "      <th>1</th>\n",
       "      <td>Masticophis taeniatus</td>\n",
       "      <td>United States of America</td>\n",
       "      <td>North America</td>\n",
       "      <td>Masticophis</td>\n",
       "      <td>Colubridae</td>\n",
       "      <td>cbc7ad7141a642f2b92ef7fe05c9d608</td>\n",
       "      <td>inaturalist</td>\n",
       "      <td>train</td>\n",
       "      <td>430</td>\n",
       "      <td>/Datasets/SnakeCLEF-2021/inaturalist/cbc7ad714...</td>\n",
       "    </tr>\n",
       "    <tr>\n",
       "      <th>2</th>\n",
       "      <td>Crotalus pyrrhus</td>\n",
       "      <td>United States of America</td>\n",
       "      <td>North America</td>\n",
       "      <td>Crotalus</td>\n",
       "      <td>Viperidae</td>\n",
       "      <td>fc4db72953ae4c978ac50acb33adce0c</td>\n",
       "      <td>inaturalist</td>\n",
       "      <td>train</td>\n",
       "      <td>183</td>\n",
       "      <td>/Datasets/SnakeCLEF-2021/inaturalist/fc4db7295...</td>\n",
       "    </tr>\n",
       "    <tr>\n",
       "      <th>3</th>\n",
       "      <td>Haldea striatula</td>\n",
       "      <td>United States of America</td>\n",
       "      <td>North America</td>\n",
       "      <td>Haldea</td>\n",
       "      <td>Colubridae</td>\n",
       "      <td>2068c79c956d43dc8a45106e0c808aed</td>\n",
       "      <td>inaturalist</td>\n",
       "      <td>train</td>\n",
       "      <td>305</td>\n",
       "      <td>/Datasets/SnakeCLEF-2021/inaturalist/2068c79c9...</td>\n",
       "    </tr>\n",
       "    <tr>\n",
       "      <th>4</th>\n",
       "      <td>Natrix natrix</td>\n",
       "      <td>Russia</td>\n",
       "      <td>Europe</td>\n",
       "      <td>Natrix</td>\n",
       "      <td>Colubridae</td>\n",
       "      <td>3e376aaf4f8d42e991c0c8ddc5972f95</td>\n",
       "      <td>inaturalist</td>\n",
       "      <td>train</td>\n",
       "      <td>471</td>\n",
       "      <td>/Datasets/SnakeCLEF-2021/inaturalist/3e376aaf4...</td>\n",
       "    </tr>\n",
       "  </tbody>\n",
       "</table>\n",
       "</div>"
      ],
      "text/plain": [
       "                 binomial                   country      continent  \\\n",
       "0  Pantherophis spiloides  United States of America  North America   \n",
       "1   Masticophis taeniatus  United States of America  North America   \n",
       "2        Crotalus pyrrhus  United States of America  North America   \n",
       "3        Haldea striatula  United States of America  North America   \n",
       "4           Natrix natrix                    Russia         Europe   \n",
       "\n",
       "          genus      family                              UUID       source  \\\n",
       "0  Pantherophis  Colubridae  fbc816e9552643a2bce4f655b2f3c4e1  inaturalist   \n",
       "1   Masticophis  Colubridae  cbc7ad7141a642f2b92ef7fe05c9d608  inaturalist   \n",
       "2      Crotalus   Viperidae  fc4db72953ae4c978ac50acb33adce0c  inaturalist   \n",
       "3        Haldea  Colubridae  2068c79c956d43dc8a45106e0c808aed  inaturalist   \n",
       "4        Natrix  Colubridae  3e376aaf4f8d42e991c0c8ddc5972f95  inaturalist   \n",
       "\n",
       "  subset  class_id                                         image_path  \n",
       "0  train       523  /Datasets/SnakeCLEF-2021/inaturalist/fbc816e95...  \n",
       "1  train       430  /Datasets/SnakeCLEF-2021/inaturalist/cbc7ad714...  \n",
       "2  train       183  /Datasets/SnakeCLEF-2021/inaturalist/fc4db7295...  \n",
       "3  train       305  /Datasets/SnakeCLEF-2021/inaturalist/2068c79c9...  \n",
       "4  train       471  /Datasets/SnakeCLEF-2021/inaturalist/3e376aaf4...  "
      ]
     },
     "execution_count": 8,
     "metadata": {},
     "output_type": "execute_result"
    }
   ],
   "source": [
    "\n",
    "df = pd.read_csv('kaggle_data/data.csv')\n",
    "df.head(5)"
   ]
  },
  {
   "cell_type": "markdown",
   "metadata": {
    "id": "dn9PyP_HzWPe"
   },
   "source": [
    "### 1) Select top 10 breeds with most images"
   ]
  },
  {
   "cell_type": "markdown",
   "metadata": {
    "id": "yxxgCrRTIgtA"
   },
   "source": [
    "0. Check top 10 images"
   ]
  },
  {
   "cell_type": "code",
   "execution_count": 9,
   "metadata": {
    "colab": {
     "base_uri": "https://localhost:8080/"
    },
    "id": "8IWJ4gpPzEas",
    "outputId": "41066f23-7979-483a-a710-7d20c79289a8"
   },
   "outputs": [
    {
     "data": {
      "text/plain": [
       "Thamnophis sirtalis            22163\n",
       "Storeria dekayi                17535\n",
       "Pantherophis obsoletus         13012\n",
       "Crotalus atrox                 12344\n",
       "Nerodia sipedon                12211\n",
       "Pituophis catenifer            11487\n",
       "Pantherophis alleghaniensis     8846\n",
       "Agkistrodon contortrix          8085\n",
       "Diadophis punctatus             7689\n",
       "Nerodia erythrogaster           7435\n",
       "Name: binomial, dtype: int64"
      ]
     },
     "execution_count": 9,
     "metadata": {},
     "output_type": "execute_result"
    }
   ],
   "source": [
    "df['binomial'].value_counts()[:10]"
   ]
  },
  {
   "cell_type": "markdown",
   "metadata": {
    "id": "VfF4MUGCIn3t"
   },
   "source": [
    "1. Select top 10 images:"
   ]
  },
  {
   "cell_type": "code",
   "execution_count": 10,
   "metadata": {},
   "outputs": [],
   "source": [
    "selected_breed = selectTopBreeds(df,10)"
   ]
  },
  {
   "cell_type": "markdown",
   "metadata": {},
   "source": [
    "2. Filter dataframe with selected breeds"
   ]
  },
  {
   "cell_type": "code",
   "execution_count": 11,
   "metadata": {
    "colab": {
     "base_uri": "https://localhost:8080/"
    },
    "id": "VOKUVR7AqZd9",
    "outputId": "cc9adf71-fc49-442f-c1ff-cbf3ffac7e99"
   },
   "outputs": [
    {
     "name": "stdout",
     "output_type": "stream",
     "text": [
      "['Thamnophis sirtalis' 'Pituophis catenifer' 'Storeria dekayi'\n",
      " 'Nerodia erythrogaster' 'Diadophis punctatus' 'Crotalus atrox'\n",
      " 'Pantherophis alleghaniensis' 'Nerodia sipedon' 'Agkistrodon contortrix'\n",
      " 'Pantherophis obsoletus']\n",
      "Total breeds: 10\n"
     ]
    }
   ],
   "source": [
    "\n",
    "df = df[df.binomial.isin(selected_breed)] \n",
    "\n",
    "print(pd.unique(df.binomial))\n",
    "\n",
    "print(\"Total breeds:\",len ( pd.unique(df.binomial)))"
   ]
  },
  {
   "cell_type": "markdown",
   "metadata": {
    "id": "RPF4__nQFk8z"
   },
   "source": [
    "### 1) Drop and rename columns:"
   ]
  },
  {
   "cell_type": "code",
   "execution_count": 12,
   "metadata": {
    "colab": {
     "base_uri": "https://localhost:8080/",
     "height": 204
    },
    "id": "hZLdozNuqZ08",
    "outputId": "8b13e826-5128-4cc6-c6b8-34ccad3ffb3c"
   },
   "outputs": [
    {
     "data": {
      "text/html": [
       "<div>\n",
       "<style scoped>\n",
       "    .dataframe tbody tr th:only-of-type {\n",
       "        vertical-align: middle;\n",
       "    }\n",
       "\n",
       "    .dataframe tbody tr th {\n",
       "        vertical-align: top;\n",
       "    }\n",
       "\n",
       "    .dataframe thead th {\n",
       "        text-align: right;\n",
       "    }\n",
       "</style>\n",
       "<table border=\"1\" class=\"dataframe\">\n",
       "  <thead>\n",
       "    <tr style=\"text-align: right;\">\n",
       "      <th></th>\n",
       "      <th>breed</th>\n",
       "      <th>image_path</th>\n",
       "    </tr>\n",
       "  </thead>\n",
       "  <tbody>\n",
       "    <tr>\n",
       "      <th>14</th>\n",
       "      <td>Thamnophis sirtalis</td>\n",
       "      <td>/Datasets/SnakeCLEF-2021/inaturalist/2925c6778...</td>\n",
       "    </tr>\n",
       "    <tr>\n",
       "      <th>17</th>\n",
       "      <td>Pituophis catenifer</td>\n",
       "      <td>/Datasets/SnakeCLEF-2021/inaturalist/1b849238b...</td>\n",
       "    </tr>\n",
       "    <tr>\n",
       "      <th>21</th>\n",
       "      <td>Storeria dekayi</td>\n",
       "      <td>/Datasets/SnakeCLEF-2021/inaturalist/dab7fe49d...</td>\n",
       "    </tr>\n",
       "    <tr>\n",
       "      <th>22</th>\n",
       "      <td>Nerodia erythrogaster</td>\n",
       "      <td>/Datasets/SnakeCLEF-2021/inaturalist/7c4bd815b...</td>\n",
       "    </tr>\n",
       "    <tr>\n",
       "      <th>24</th>\n",
       "      <td>Diadophis punctatus</td>\n",
       "      <td>/Datasets/SnakeCLEF-2021/inaturalist/7060dc6cb...</td>\n",
       "    </tr>\n",
       "  </tbody>\n",
       "</table>\n",
       "</div>"
      ],
      "text/plain": [
       "                    breed                                         image_path\n",
       "14    Thamnophis sirtalis  /Datasets/SnakeCLEF-2021/inaturalist/2925c6778...\n",
       "17    Pituophis catenifer  /Datasets/SnakeCLEF-2021/inaturalist/1b849238b...\n",
       "21        Storeria dekayi  /Datasets/SnakeCLEF-2021/inaturalist/dab7fe49d...\n",
       "22  Nerodia erythrogaster  /Datasets/SnakeCLEF-2021/inaturalist/7c4bd815b...\n",
       "24    Diadophis punctatus  /Datasets/SnakeCLEF-2021/inaturalist/7060dc6cb..."
      ]
     },
     "execution_count": 12,
     "metadata": {},
     "output_type": "execute_result"
    }
   ],
   "source": [
    "# 1. Dropping columns\n",
    "df = df.drop(columns=['source','class_id','UUID','country','genus','family','continent','subset'])\n",
    "\n",
    "# 2. Renaming columns\n",
    "df.columns=['breed','image_path']\n",
    "\n",
    "# 3. Show results\n",
    "df.head(5)\n"
   ]
  },
  {
   "cell_type": "markdown",
   "metadata": {},
   "source": [
    "4. Fix image_path"
   ]
  },
  {
   "cell_type": "code",
   "execution_count": 13,
   "metadata": {},
   "outputs": [
    {
     "data": {
      "text/html": [
       "<div>\n",
       "<style scoped>\n",
       "    .dataframe tbody tr th:only-of-type {\n",
       "        vertical-align: middle;\n",
       "    }\n",
       "\n",
       "    .dataframe tbody tr th {\n",
       "        vertical-align: top;\n",
       "    }\n",
       "\n",
       "    .dataframe thead th {\n",
       "        text-align: right;\n",
       "    }\n",
       "</style>\n",
       "<table border=\"1\" class=\"dataframe\">\n",
       "  <thead>\n",
       "    <tr style=\"text-align: right;\">\n",
       "      <th></th>\n",
       "      <th>breed</th>\n",
       "      <th>image_path</th>\n",
       "    </tr>\n",
       "  </thead>\n",
       "  <tbody>\n",
       "    <tr>\n",
       "      <th>14</th>\n",
       "      <td>Thamnophis sirtalis</td>\n",
       "      <td>data/2925c677825448a7935fad227c1fa9b2.jpg</td>\n",
       "    </tr>\n",
       "    <tr>\n",
       "      <th>17</th>\n",
       "      <td>Pituophis catenifer</td>\n",
       "      <td>data/1b849238b16941b282c2d608a8c4c687.jpg</td>\n",
       "    </tr>\n",
       "    <tr>\n",
       "      <th>21</th>\n",
       "      <td>Storeria dekayi</td>\n",
       "      <td>data/dab7fe49d8204bce887305fd5fa887c0.jpg</td>\n",
       "    </tr>\n",
       "    <tr>\n",
       "      <th>22</th>\n",
       "      <td>Nerodia erythrogaster</td>\n",
       "      <td>data/7c4bd815bf0b4454b6db043fccd54fd1.jpg</td>\n",
       "    </tr>\n",
       "    <tr>\n",
       "      <th>24</th>\n",
       "      <td>Diadophis punctatus</td>\n",
       "      <td>data/7060dc6cb41e4fcc8415a9007ac3bca6.jpg</td>\n",
       "    </tr>\n",
       "    <tr>\n",
       "      <th>...</th>\n",
       "      <td>...</td>\n",
       "      <td>...</td>\n",
       "    </tr>\n",
       "    <tr>\n",
       "      <th>385993</th>\n",
       "      <td>Pituophis catenifer</td>\n",
       "      <td>data/2d39a392ecee4be1849d8d6c5e231c1f.jpg</td>\n",
       "    </tr>\n",
       "    <tr>\n",
       "      <th>386001</th>\n",
       "      <td>Storeria dekayi</td>\n",
       "      <td>data/f0a50a4676a34a2f99c3cb2451c6acd5.jpg</td>\n",
       "    </tr>\n",
       "    <tr>\n",
       "      <th>386002</th>\n",
       "      <td>Thamnophis sirtalis</td>\n",
       "      <td>data/4513bbe7752d49dabdff2dd6484c82fc.jpg</td>\n",
       "    </tr>\n",
       "    <tr>\n",
       "      <th>386003</th>\n",
       "      <td>Thamnophis sirtalis</td>\n",
       "      <td>data/fca4ce9644b84454bf2d2967bbfd6597.jpg</td>\n",
       "    </tr>\n",
       "    <tr>\n",
       "      <th>386004</th>\n",
       "      <td>Pantherophis obsoletus</td>\n",
       "      <td>data/4650fd94cdc14861a7e12014fcd47520.jpg</td>\n",
       "    </tr>\n",
       "  </tbody>\n",
       "</table>\n",
       "<p>120807 rows × 2 columns</p>\n",
       "</div>"
      ],
      "text/plain": [
       "                         breed                                 image_path\n",
       "14         Thamnophis sirtalis  data/2925c677825448a7935fad227c1fa9b2.jpg\n",
       "17         Pituophis catenifer  data/1b849238b16941b282c2d608a8c4c687.jpg\n",
       "21             Storeria dekayi  data/dab7fe49d8204bce887305fd5fa887c0.jpg\n",
       "22       Nerodia erythrogaster  data/7c4bd815bf0b4454b6db043fccd54fd1.jpg\n",
       "24         Diadophis punctatus  data/7060dc6cb41e4fcc8415a9007ac3bca6.jpg\n",
       "...                        ...                                        ...\n",
       "385993     Pituophis catenifer  data/2d39a392ecee4be1849d8d6c5e231c1f.jpg\n",
       "386001         Storeria dekayi  data/f0a50a4676a34a2f99c3cb2451c6acd5.jpg\n",
       "386002     Thamnophis sirtalis  data/4513bbe7752d49dabdff2dd6484c82fc.jpg\n",
       "386003     Thamnophis sirtalis  data/fca4ce9644b84454bf2d2967bbfd6597.jpg\n",
       "386004  Pantherophis obsoletus  data/4650fd94cdc14861a7e12014fcd47520.jpg\n",
       "\n",
       "[120807 rows x 2 columns]"
      ]
     },
     "execution_count": 13,
     "metadata": {},
     "output_type": "execute_result"
    }
   ],
   "source": [
    "df.image_path = fixImagePath(df)\n",
    "df"
   ]
  },
  {
   "cell_type": "markdown",
   "metadata": {
    "id": "of5uN1ZbzoY-"
   },
   "source": [
    "### 3) Encoding breeds"
   ]
  },
  {
   "cell_type": "code",
   "execution_count": 14,
   "metadata": {
    "colab": {
     "base_uri": "https://localhost:8080/",
     "height": 204
    },
    "id": "n9wICL2JznyD",
    "outputId": "db29cf2a-18ff-4afb-e40f-0353f838fa47"
   },
   "outputs": [
    {
     "data": {
      "text/html": [
       "<div>\n",
       "<style scoped>\n",
       "    .dataframe tbody tr th:only-of-type {\n",
       "        vertical-align: middle;\n",
       "    }\n",
       "\n",
       "    .dataframe tbody tr th {\n",
       "        vertical-align: top;\n",
       "    }\n",
       "\n",
       "    .dataframe thead th {\n",
       "        text-align: right;\n",
       "    }\n",
       "</style>\n",
       "<table border=\"1\" class=\"dataframe\">\n",
       "  <thead>\n",
       "    <tr style=\"text-align: right;\">\n",
       "      <th></th>\n",
       "      <th>breed</th>\n",
       "      <th>image_path</th>\n",
       "      <th>breed_encode</th>\n",
       "    </tr>\n",
       "  </thead>\n",
       "  <tbody>\n",
       "    <tr>\n",
       "      <th>14</th>\n",
       "      <td>Thamnophis sirtalis</td>\n",
       "      <td>data/2925c677825448a7935fad227c1fa9b2.jpg</td>\n",
       "      <td>9</td>\n",
       "    </tr>\n",
       "    <tr>\n",
       "      <th>17</th>\n",
       "      <td>Pituophis catenifer</td>\n",
       "      <td>data/1b849238b16941b282c2d608a8c4c687.jpg</td>\n",
       "      <td>7</td>\n",
       "    </tr>\n",
       "    <tr>\n",
       "      <th>21</th>\n",
       "      <td>Storeria dekayi</td>\n",
       "      <td>data/dab7fe49d8204bce887305fd5fa887c0.jpg</td>\n",
       "      <td>8</td>\n",
       "    </tr>\n",
       "    <tr>\n",
       "      <th>22</th>\n",
       "      <td>Nerodia erythrogaster</td>\n",
       "      <td>data/7c4bd815bf0b4454b6db043fccd54fd1.jpg</td>\n",
       "      <td>3</td>\n",
       "    </tr>\n",
       "    <tr>\n",
       "      <th>24</th>\n",
       "      <td>Diadophis punctatus</td>\n",
       "      <td>data/7060dc6cb41e4fcc8415a9007ac3bca6.jpg</td>\n",
       "      <td>2</td>\n",
       "    </tr>\n",
       "  </tbody>\n",
       "</table>\n",
       "</div>"
      ],
      "text/plain": [
       "                    breed                                 image_path  \\\n",
       "14    Thamnophis sirtalis  data/2925c677825448a7935fad227c1fa9b2.jpg   \n",
       "17    Pituophis catenifer  data/1b849238b16941b282c2d608a8c4c687.jpg   \n",
       "21        Storeria dekayi  data/dab7fe49d8204bce887305fd5fa887c0.jpg   \n",
       "22  Nerodia erythrogaster  data/7c4bd815bf0b4454b6db043fccd54fd1.jpg   \n",
       "24    Diadophis punctatus  data/7060dc6cb41e4fcc8415a9007ac3bca6.jpg   \n",
       "\n",
       "    breed_encode  \n",
       "14             9  \n",
       "17             7  \n",
       "21             8  \n",
       "22             3  \n",
       "24             2  "
      ]
     },
     "execution_count": 14,
     "metadata": {},
     "output_type": "execute_result"
    }
   ],
   "source": [
    "df['breed_encode'] = LE.fit_transform(df['breed'])\n",
    "df.head(5)"
   ]
  },
  {
   "cell_type": "markdown",
   "metadata": {
    "id": "tOgdaiv_LWWC"
   },
   "source": [
    "### 4) Preparing dataframe for grouping:"
   ]
  },
  {
   "cell_type": "code",
   "execution_count": 15,
   "metadata": {
    "colab": {
     "base_uri": "https://localhost:8080/"
    },
    "id": "Uv1OGvQ4AzHA",
    "outputId": "9e015e78-0adb-42a5-cb53-7c65b74d8b1f"
   },
   "outputs": [
    {
     "data": {
      "text/plain": [
       "Agkistrodon contortrix         7400\n",
       "Nerodia erythrogaster          7400\n",
       "Pantherophis obsoletus         7400\n",
       "Pituophis catenifer            7400\n",
       "Diadophis punctatus            7400\n",
       "Crotalus atrox                 7400\n",
       "Pantherophis alleghaniensis    7400\n",
       "Nerodia sipedon                7400\n",
       "Thamnophis sirtalis            7400\n",
       "Storeria dekayi                7400\n",
       "Name: breed, dtype: int64"
      ]
     },
     "execution_count": 15,
     "metadata": {},
     "output_type": "execute_result"
    }
   ],
   "source": [
    "df = reOrderForGrouping( df,group_size=2000)\n",
    "df['breed'].value_counts()"
   ]
  },
  {
   "cell_type": "markdown",
   "metadata": {},
   "source": [
    "5) Save preproccessed .csv"
   ]
  },
  {
   "cell_type": "code",
   "execution_count": 16,
   "metadata": {},
   "outputs": [
    {
     "name": "stderr",
     "output_type": "stream",
     "text": [
      "A subdirectory or file pre_proccesed_data already exists.\n"
     ]
    },
    {
     "name": "stdout",
     "output_type": "stream",
     "text": [
      "\u001b[92mpre_proccessed_data.csv saved!\n",
      "\u001b[0m\n"
     ]
    }
   ],
   "source": [
    "savePreproccessedCSV(df)"
   ]
  },
  {
   "cell_type": "markdown",
   "metadata": {
    "id": "b8aDDsvqGO_4"
   },
   "source": [
    "### 5)  Create groups and convert them to .h5 file"
   ]
  },
  {
   "cell_type": "code",
   "execution_count": 17,
   "metadata": {
    "id": "wxbhdK2qaS3t",
    "scrolled": true
   },
   "outputs": [
    {
     "name": "stderr",
     "output_type": "stream",
     "text": [
      "Creating .h5 file for group 36: 100%|██████████| 37/37 [30:55<00:00, 50.14s/it]"
     ]
    },
    {
     "name": "stdout",
     "output_type": "stream",
     "text": [
      "\u001b[92mImages successfully saved in .h5 files !\n",
      "\u001b[0m\n"
     ]
    },
    {
     "name": "stderr",
     "output_type": "stream",
     "text": [
      "\n"
     ]
    }
   ],
   "source": [
    "convert_images_to_data_in_h5_file(df, dest_h5_file_path=os.path.abspath('pre_proccesed_data')+'/group_', n_px = 224, batch_size= 2000)"
   ]
  },
  {
   "cell_type": "code",
   "execution_count": null,
   "metadata": {},
   "outputs": [],
   "source": []
  },
  {
   "cell_type": "markdown",
   "metadata": {
    "id": "XXrexBx6GeSV"
   },
   "source": [
    "### 6) File verification"
   ]
  },
  {
   "cell_type": "markdown",
   "metadata": {
    "id": "PBN9iRJQG8e_"
   },
   "source": [
    "\n",
    "\n",
    "\n",
    "\n",
    "1. Select random group:\n",
    "\n",
    "\n",
    "\n",
    "\n"
   ]
  },
  {
   "cell_type": "code",
   "execution_count": 18,
   "metadata": {
    "colab": {
     "base_uri": "https://localhost:8080/"
    },
    "id": "ClL48NqXaS3t",
    "outputId": "3eecc128-b989-49db-9803-715f2edb89a4"
   },
   "outputs": [
    {
     "name": "stdout",
     "output_type": "stream",
     "text": [
      "\u001b[93mReading data from group 10 !\n",
      "\u001b[0m\n",
      "Keys:  ['input_data', 'input_labels']\n",
      "x shape = (2000, 224, 224, 3) | y shape = (2000,)\n"
     ]
    }
   ],
   "source": [
    "x,y,groupNum =getRandomGroup( max_groups=10 )"
   ]
  },
  {
   "cell_type": "markdown",
   "metadata": {
    "id": "TzRvm-BjHSNb"
   },
   "source": [
    "2. Select random image from selected group:"
   ]
  },
  {
   "cell_type": "code",
   "execution_count": 42,
   "metadata": {
    "colab": {
     "base_uri": "https://localhost:8080/",
     "height": 286
    },
    "id": "0FJ4Ra6faS3u",
    "outputId": "e5a7f291-4bb7-4f49-c788-289f0cde5cf1"
   },
   "outputs": [
    {
     "name": "stdout",
     "output_type": "stream",
     "text": [
      "Img shape: (224, 224, 3)\n",
      "breed: 2\n"
     ]
    },
    {
     "data": {
      "image/png": "[encoded data removed]",
      "text/plain": [
       "<Figure size 432x288 with 1 Axes>"
      ]
     },
     "metadata": {
      "needs_background": "light"
     },
     "output_type": "display_data"
    }
   ],
   "source": [
    "showRandomImage(x,y)"
   ]
  },
  {
   "cell_type": "markdown",
   "metadata": {
    "id": "nmunwKuaiRCK"
   },
   "source": [
    "### 7) Saving created files in Kaggle \n"
   ]
  },
  {
   "cell_type": "code",
   "execution_count": null,
   "metadata": {
    "colab": {
     "base_uri": "https://localhost:8080/",
     "height": 1000
    },
    "id": "ij-oFGhl-GGA",
    "outputId": "147cf3f7-b48b-463a-9dad-564f4cb3f1fc"
   },
   "outputs": [
    {
     "name": "stdin",
     "output_type": "stream",
     "text": [
      "Do you want upload created data in  your kaggle Account? [y/n]  y\n",
      "Create new dataset[1] or update old one[2]? [1/2] 2\n",
      "Enter dataset name:  snake-breeds\n"
     ]
    },
    {
     "name": "stdout",
     "output_type": "stream",
     "text": [
      "Data package template written to: C:\\Users\\datcx\\Documents\\github\\Snakes-Classifier\\pre_proccesed_data\\dataset-metadata.json\n",
      "File C:\\Users\\datcx\\Documents\\github\\Snakes-Classifier\\pre_proccesed_data\\dataset-metadata.json updated\n"
     ]
    },
    {
     "name": "stdin",
     "output_type": "stream",
     "text": [
      "Enter commit message (Ex. 'version 1.4') :  version 1.7\n"
     ]
    }
   ],
   "source": [
    "kaggle_saveData()"
   ]
  }
 ],
 "metadata": {
  "colab": {
   "collapsed_sections": [],
   "name": "02- preprocess data.ipynb",
   "provenance": [],
   "toc_visible": true
  },
  "interpreter": {
   "hash": "2fc2edaedcb3872b7a62d5a54e88e050dabfc3420f4a864a405c620a9dc5124f"
  },
  "kernelspec": {
   "display_name": "Python 3",
   "language": "python",
   "name": "python3"
  },
  "language_info": {
   "codemirror_mode": {
    "name": "ipython",
    "version": 3
   },
   "file_extension": ".py",
   "mimetype": "text/x-python",
   "name": "python",
   "nbconvert_exporter": "python",
   "pygments_lexer": "ipython3",
   "version": "3.9.5"
  }
 },
 "nbformat": 4,
 "nbformat_minor": 4
}
