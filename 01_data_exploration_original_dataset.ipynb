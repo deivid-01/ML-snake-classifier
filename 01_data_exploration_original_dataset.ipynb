{
 "cells": [
  {
   "cell_type": "markdown",
   "metadata": {},
   "source": [
    "# Data exploration  - Snakeclef2021"
   ]
  },
  {
   "cell_type": "markdown",
   "metadata": {
    "id": "aLj9TpczITy9"
   },
   "source": [
    "**About:**\n",
    "\n",
    "- This notebook is focus on explore the original  dataset  from [snakeclef2021](https://www.aicrowd.com/challenges/snakeclef2021-snake-species-identification-challenge).\n",
    "---\n",
    "David Andrés Torres Betancour <br/>\n",
    "Computer Engineering  Student <br/>\n",
    "University of Antioquia <br/>\n",
    "davida.torres@udea.edu.co"
   ]
  },
  {
   "cell_type": "markdown",
   "metadata": {
    "id": "xwTmy6SpJP1I"
   },
   "source": [
    "## Importing Libraries"
   ]
  },
  {
   "cell_type": "code",
   "execution_count": 6,
   "metadata": {},
   "outputs": [],
   "source": [
    "import pandas as pd\n",
    "import numpy as np\n",
    "import matplotlib.pyplot as plt\n",
    "import seaborn as sns\n",
    "import os\n",
    "import h5py\n",
    "import random\n",
    "import codecs\n",
    "from ipywidgets import FileUpload, Output\n",
    "import asyncio\n",
    "import threading\n",
    "%matplotlib inline"
   ]
  },
  {
   "cell_type": "markdown",
   "metadata": {
    "id": "5ALNJ7-nge6J"
   },
   "source": [
    "## Tools"
   ]
  },
  {
   "cell_type": "code",
   "execution_count": 8,
   "metadata": {
    "id": "bbb3wlul0Wmp"
   },
   "outputs": [],
   "source": [
    "class bcolors:\n",
    "    HEADER = '\\033[95m'\n",
    "    OKBLUE = '\\033[94m'\n",
    "    OKCYAN = '\\033[96m'\n",
    "    OKGREEN = '\\033[92m'\n",
    "    WARNING = '\\033[93m'\n",
    "    FAIL = '\\033[91m'\n",
    "    ENDC = '\\033[0m'\n",
    "    BOLD = '\\033[1m'\n",
    "    UNDERLINE = '\\033[4m'\n",
    "    \n",
    "\n",
    "def fetchDatasetFromKaggle(dataset_name, force_fetch=False):\n",
    "    \n",
    "  print(bcolors.BOLD + \"Fetching data from kaggle ( This may take some time)...\" + bcolors.ENDC)   \n",
    "  if force_fetch==True:\n",
    "   ! kaggle datasets download -d deividt/{dataset_name} --force #Download dataset\n",
    "         \n",
    "   process_info=! kaggle datasets download -d deividt/{dataset_name} --force #Download dataset\n",
    "   if \"100%\" in list(process_info)[-1]:\n",
    "       print(bcolors.OKGREEN + \"Data from kaggle successfully fetch\\n\" + bcolors.ENDC)\n",
    "       print(bcolors.BOLD + \"Unzipping data...\" + bcolors.ENDC)\n",
    "       ! unzip \\*.zip && rm *.zip\n",
    "       print(bcolors.OKGREEN + \"Data is ready in your local folder!\\n\" + bcolors.ENDC)\n",
    "   elif \"404 - Not Found\" in list(process_info)[0]: \n",
    "       print(bcolors.FAIL + \"404 - Dataset  Not Found in 'deividt' Account\\n\" + bcolors.ENDC)\n",
    "   else:\n",
    "       assert False,list(process_info)[-1]\n",
    "\n",
    "  else:\n",
    "   process_info =  ! kaggle datasets download -d deividt/{dataset_name} \n",
    "   if \"Skipping\" in list(process_info)[0]:\n",
    "       print(bcolors.WARNING + \"Data already exists locally\\nIf you want force fetch set force_fetch parameter to True\" + bcolors.ENDC)\n",
    "\n",
    "\n",
    "def missingValues(dataF):\n",
    "  '''\n",
    "  Description:\n",
    "    Returns the reversed String.\n",
    "\n",
    "  Parameters:\n",
    "      None.\n",
    "\n",
    "  Returns:\n",
    "      reverse(str1):The string which gets reversed.   \n",
    "  '''\n",
    "  k = dataF.isna().sum()\n",
    "  miss_values = k[k!=0]\n",
    "  if miss_values.size>0:\n",
    "    return (miss_values)\n",
    "  return (\"No missing values\")\n",
    "\n",
    "\n",
    "def selectRandomBreeds(dataF,num_breeds=5):\n",
    "\n",
    "  labels=pd.unique(dataF.binomial).tolist()\n",
    "  np.random.shuffle(labels)\n",
    "  return labels[:num_breeds]\n",
    "  \n",
    "\n",
    "def displayImagesForRandomBreeds(df,num_breeds = 5, num_imgs_forbreed= 2):\n",
    "  labels = selectRandomBreeds(df,num_breeds)\n",
    "  for label in labels:\n",
    "    sub_df=df[df.binomial==label]\n",
    "    sub_df=sub_df.sample(frac=1)[:num_imgs_forbreed]\n",
    "    img_paths=sub_df.image_path.tolist()\n",
    "    \n",
    "    f, axarr = plt.subplots(1,2)\n",
    "\n",
    "    for i,img in enumerate(img_paths):\n",
    "      path_ =\"data/\"+img.split('/')[-1]\n",
    "      print(path_)\n",
    "      img = cv2.imread(path_)\n",
    "      print(img)\n",
    "      img=cv2.cvtColor(img, cv2.COLOR_BGR2RGB)\n",
    "      axarr[i].imshow(img)\n",
    "      axarr[i].title.set_text(f'Shape: {img.shape}')\n",
    "    plt.suptitle(f\"Breed: {label}\")\n",
    "    plt.show()\n",
    "    print()"
   ]
  },
  {
   "cell_type": "markdown",
   "metadata": {
    "id": "p-L1S2wRNTCA"
   },
   "source": [
    "## Data exploration"
   ]
  },
  {
   "cell_type": "markdown",
   "metadata": {
    "id": "b6ykuAR6eB5R"
   },
   "source": [
    "- Reading main .csv file"
   ]
  },
  {
   "cell_type": "code",
   "execution_count": null,
   "metadata": {},
   "outputs": [],
   "source": [
    "df = pd.read_csv('data_csv/data.csv')"
   ]
  },
  {
   "cell_type": "markdown",
   "metadata": {
    "id": "gOHTeq9ONWke"
   },
   "source": [
    "- First  samples"
   ]
  },
  {
   "cell_type": "code",
   "execution_count": null,
   "metadata": {
    "colab": {
     "base_uri": "https://localhost:8080/",
     "height": 204
    },
    "id": "_DZC8sxeNWza",
    "outputId": "717f3194-2194-43c7-a801-21f1b7fa88c8"
   },
   "outputs": [],
   "source": [
    "df.head(5)"
   ]
  },
  {
   "cell_type": "markdown",
   "metadata": {
    "id": "p-QvGsXAVTFS"
   },
   "source": [
    "- Last samples"
   ]
  },
  {
   "cell_type": "code",
   "execution_count": null,
   "metadata": {
    "colab": {
     "base_uri": "https://localhost:8080/",
     "height": 204
    },
    "id": "JxwxvnTdVPvA",
    "outputId": "b9f025db-78f7-4536-de85-3b50214e79e7"
   },
   "outputs": [],
   "source": [
    "df.tail(5)"
   ]
  },
  {
   "cell_type": "markdown",
   "metadata": {
    "id": "L9mN_NZCfCP6"
   },
   "source": [
    "- Missing values in columns"
   ]
  },
  {
   "cell_type": "code",
   "execution_count": null,
   "metadata": {
    "colab": {
     "base_uri": "https://localhost:8080/",
     "height": 35
    },
    "id": "SELtN0YQfuMC",
    "outputId": "d8f26423-a36c-48bc-9f28-36643ba79592"
   },
   "outputs": [],
   "source": [
    "missingValues()"
   ]
  },
  {
   "cell_type": "markdown",
   "metadata": {
    "id": "tYa2vz6ogBsv"
   },
   "source": [
    "- Data types"
   ]
  },
  {
   "cell_type": "code",
   "execution_count": null,
   "metadata": {
    "colab": {
     "base_uri": "https://localhost:8080/"
    },
    "id": "_Z7uZ3Maf79a",
    "outputId": "f6457d0e-8844-4dc2-b3d4-22a453f5ea62"
   },
   "outputs": [],
   "source": [
    "for c in df.columns:\n",
    "    print (\"%20s\"%c, df[c].dtype)"
   ]
  },
  {
   "cell_type": "markdown",
   "metadata": {
    "id": "sHymgN2IXpJW"
   },
   "source": [
    "- Data Size"
   ]
  },
  {
   "cell_type": "code",
   "execution_count": null,
   "metadata": {
    "colab": {
     "base_uri": "https://localhost:8080/"
    },
    "id": "yBK--n1EXr_R",
    "outputId": "792c2343-e62f-4093-f58a-aaad5bb3c8ff"
   },
   "outputs": [],
   "source": [
    "df.shape"
   ]
  },
  {
   "cell_type": "markdown",
   "metadata": {
    "id": "pr9dM6rRYR9X"
   },
   "source": [
    "- Breeds:"
   ]
  },
  {
   "cell_type": "code",
   "execution_count": null,
   "metadata": {
    "colab": {
     "base_uri": "https://localhost:8080/"
    },
    "id": "EfACWldBYV0V",
    "outputId": "0934402e-a2f5-4eef-eca8-d23ccce7c3e8"
   },
   "outputs": [],
   "source": [
    "print(pd.unique(df['breed']));"
   ]
  },
  {
   "cell_type": "markdown",
   "metadata": {
    "id": "2c3hQ24ANh_e"
   },
   "source": [
    "- Total breeds:"
   ]
  },
  {
   "cell_type": "code",
   "execution_count": null,
   "metadata": {
    "colab": {
     "base_uri": "https://localhost:8080/"
    },
    "id": "1BBCBukZNmS6",
    "outputId": "e089f63c-8828-427e-800b-d3b31e5aa268"
   },
   "outputs": [],
   "source": [
    "len ( pd.unique(df['breed']))"
   ]
  },
  {
   "cell_type": "markdown",
   "metadata": {
    "id": "_WBg0WNqZJlL"
   },
   "source": [
    "- Total images for each breed : "
   ]
  },
  {
   "cell_type": "code",
   "execution_count": null,
   "metadata": {
    "colab": {
     "base_uri": "https://localhost:8080/"
    },
    "id": "GN9rjrBclRQR",
    "outputId": "1a138505-8722-45ab-c94f-a0cd13449fca"
   },
   "outputs": [],
   "source": [
    "df['breed'].value_counts()"
   ]
  },
  {
   "cell_type": "markdown",
   "metadata": {
    "id": "gxxRiLNgITIn"
   },
   "source": [
    "- Data density:"
   ]
  },
  {
   "cell_type": "code",
   "execution_count": null,
   "metadata": {
    "colab": {
     "base_uri": "https://localhost:8080/",
     "height": 334
    },
    "id": "5C7w42RikQWC",
    "outputId": "ab7ca2d4-9bdc-43cd-94f9-1223c357c513"
   },
   "outputs": [],
   "source": [
    "sns.distplot(df['breed_encode']);"
   ]
  },
  {
   "cell_type": "markdown",
   "metadata": {
    "id": "Y2CWi1AmhLph"
   },
   "source": [
    "### Visualizating Images"
   ]
  },
  {
   "cell_type": "markdown",
   "metadata": {
    "id": "CmweXhcOJni3",
    "tags": []
   },
   "source": [
    "#### Loading data"
   ]
  },
  {
   "cell_type": "markdown",
   "metadata": {},
   "source": [
    " - In order to use the Kaggle’s public API, you must first authenticate using an API token. For that follow the next steps: <br/> <br/>\n",
    "     1. Go to https://www.kaggle.com/\n",
    "     2. Click on your user profile picture\n",
    "     3. Then on \"Account\" from the dropdown menu. This will take you yo your account settings\n",
    "     4. Scroll down to the section of the page labelled API\n",
    "     5. To create a new token, click on the “Create New API Token” button. This will download a fresh authentication token onto your machine named \"kaggle.json\"\n",
    "     6.  <font color='red'>YOU MUST UPLOAD kaggle.json FILE in the ROOT FOLDER/)</font> \n",
    "\n"
   ]
  },
  {
   "cell_type": "code",
   "execution_count": 9,
   "metadata": {},
   "outputs": [
    {
     "name": "stdout",
     "output_type": "stream",
     "text": [
      "... kaggle.json file has been uploaded\n"
     ]
    }
   ],
   "source": [
    "assert os.path.exists('kaggle.json'), \"kaggle.json file has not been uploaded\" \n",
    "print (\"... kaggle.json file has been uploaded\")\n",
    "os.environ['KAGGLE_CONFIG_DIR'] = os.getcwd() #Setup kaggle.json dir"
   ]
  },
  {
   "cell_type": "markdown",
   "metadata": {
    "id": "bg2m-28l3V7K"
   },
   "source": [
    "- Downloading original dataset [snakeclef2021](https://www.kaggle.com/deividt/snakeclef2021) from Kaggle. \n",
    "<br/>\n",
    "<font color='red'>Fetching data and unzipping files can take several minutes ( at least 30 min)  </font> \n",
    "<br/>\n"
   ]
  },
  {
   "cell_type": "code",
   "execution_count": null,
   "metadata": {
    "tags": []
   },
   "outputs": [
    {
     "name": "stdout",
     "output_type": "stream",
     "text": [
      "\u001b[1mFetching data from kaggle ( This may take some time)...\u001b[0m\n"
     ]
    }
   ],
   "source": [
    "fetchDatasetFromKaggle( dataset_name = \"snakeclef2021\")"
   ]
  },
  {
   "cell_type": "markdown",
   "metadata": {
    "id": "9CziWtGl5w2h"
   },
   "source": [
    "- Display images for random breeds :"
   ]
  },
  {
   "cell_type": "code",
   "execution_count": null,
   "metadata": {
    "colab": {
     "base_uri": "https://localhost:8080/"
    },
    "id": "eDNyuN7phRzN",
    "outputId": "a0b37d4c-0b67-4324-f4e7-979fd0d76808"
   },
   "outputs": [],
   "source": [
    "displayImagesForRandomBreeds(df,num_breeds = 5, num_imgs_forbreed= 2)"
   ]
  }
 ],
 "metadata": {
  "accelerator": "GPU",
  "colab": {
   "collapsed_sections": [],
   "name": "01 - data exploration.ipynb",
   "provenance": []
  },
  "kernelspec": {
   "display_name": "Python 3",
   "language": "python",
   "name": "python3"
  },
  "language_info": {
   "codemirror_mode": {
    "name": "ipython",
    "version": 3
   },
   "file_extension": ".py",
   "mimetype": "text/x-python",
   "name": "python",
   "nbconvert_exporter": "python",
   "pygments_lexer": "ipython3",
   "version": "3.9.5"
  }
 },
 "nbformat": 4,
 "nbformat_minor": 4
}
